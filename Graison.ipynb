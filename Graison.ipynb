{
 "cells": [
  {
   "cell_type": "markdown",
   "metadata": {},
   "source": [
    "# BoomBikes \n",
    "## Multiple Linear Regression\n",
    "\n",
    "#### Problem Statement:\n",
    "\n",
    "We are required to model the demand for shared bikes with the available independent variables. It will be used by the management to understand how exactly the demands vary with different features. They can accordingly manipulate the business strategy to meet the demand levels and meet the customer's expectations. Further, the model will be a good way for management to understand the demand dynamics of a new market. "
   ]
  },
  {
   "cell_type": "markdown",
   "metadata": {},
   "source": [
    "## Step 1: Reading and Understanding the Data\n",
    "\n",
    "import NumPy and Pandas and read the BoomBikes dataset"
   ]
  },
  {
   "cell_type": "code",
   "execution_count": 1,
   "metadata": {},
   "outputs": [],
   "source": [
    "# Supress Warnings\n",
    "\n",
    "import warnings\n",
    "warnings.filterwarnings('ignore')"
   ]
  },
  {
   "cell_type": "code",
   "execution_count": 2,
   "metadata": {},
   "outputs": [],
   "source": [
    "import numpy as np\n",
    "import pandas as pd"
   ]
  },
  {
   "cell_type": "code",
   "execution_count": 3,
   "metadata": {},
   "outputs": [],
   "source": [
    "data = pd.read_csv(\"day.csv\")"
   ]
  },
  {
   "cell_type": "code",
   "execution_count": 4,
   "metadata": {},
   "outputs": [
    {
     "data": {
      "text/html": [
       "<div>\n",
       "<style scoped>\n",
       "    .dataframe tbody tr th:only-of-type {\n",
       "        vertical-align: middle;\n",
       "    }\n",
       "\n",
       "    .dataframe tbody tr th {\n",
       "        vertical-align: top;\n",
       "    }\n",
       "\n",
       "    .dataframe thead th {\n",
       "        text-align: right;\n",
       "    }\n",
       "</style>\n",
       "<table border=\"1\" class=\"dataframe\">\n",
       "  <thead>\n",
       "    <tr style=\"text-align: right;\">\n",
       "      <th></th>\n",
       "      <th>instant</th>\n",
       "      <th>dteday</th>\n",
       "      <th>season</th>\n",
       "      <th>yr</th>\n",
       "      <th>mnth</th>\n",
       "      <th>holiday</th>\n",
       "      <th>weekday</th>\n",
       "      <th>workingday</th>\n",
       "      <th>weathersit</th>\n",
       "      <th>temp</th>\n",
       "      <th>atemp</th>\n",
       "      <th>hum</th>\n",
       "      <th>windspeed</th>\n",
       "      <th>casual</th>\n",
       "      <th>registered</th>\n",
       "      <th>cnt</th>\n",
       "    </tr>\n",
       "  </thead>\n",
       "  <tbody>\n",
       "    <tr>\n",
       "      <th>0</th>\n",
       "      <td>1</td>\n",
       "      <td>01-01-2018</td>\n",
       "      <td>1</td>\n",
       "      <td>0</td>\n",
       "      <td>1</td>\n",
       "      <td>0</td>\n",
       "      <td>6</td>\n",
       "      <td>0</td>\n",
       "      <td>2</td>\n",
       "      <td>14.110847</td>\n",
       "      <td>18.18125</td>\n",
       "      <td>80.5833</td>\n",
       "      <td>10.749882</td>\n",
       "      <td>331</td>\n",
       "      <td>654</td>\n",
       "      <td>985</td>\n",
       "    </tr>\n",
       "    <tr>\n",
       "      <th>1</th>\n",
       "      <td>2</td>\n",
       "      <td>02-01-2018</td>\n",
       "      <td>1</td>\n",
       "      <td>0</td>\n",
       "      <td>1</td>\n",
       "      <td>0</td>\n",
       "      <td>0</td>\n",
       "      <td>0</td>\n",
       "      <td>2</td>\n",
       "      <td>14.902598</td>\n",
       "      <td>17.68695</td>\n",
       "      <td>69.6087</td>\n",
       "      <td>16.652113</td>\n",
       "      <td>131</td>\n",
       "      <td>670</td>\n",
       "      <td>801</td>\n",
       "    </tr>\n",
       "    <tr>\n",
       "      <th>2</th>\n",
       "      <td>3</td>\n",
       "      <td>03-01-2018</td>\n",
       "      <td>1</td>\n",
       "      <td>0</td>\n",
       "      <td>1</td>\n",
       "      <td>0</td>\n",
       "      <td>1</td>\n",
       "      <td>1</td>\n",
       "      <td>1</td>\n",
       "      <td>8.050924</td>\n",
       "      <td>9.47025</td>\n",
       "      <td>43.7273</td>\n",
       "      <td>16.636703</td>\n",
       "      <td>120</td>\n",
       "      <td>1229</td>\n",
       "      <td>1349</td>\n",
       "    </tr>\n",
       "    <tr>\n",
       "      <th>3</th>\n",
       "      <td>4</td>\n",
       "      <td>04-01-2018</td>\n",
       "      <td>1</td>\n",
       "      <td>0</td>\n",
       "      <td>1</td>\n",
       "      <td>0</td>\n",
       "      <td>2</td>\n",
       "      <td>1</td>\n",
       "      <td>1</td>\n",
       "      <td>8.200000</td>\n",
       "      <td>10.60610</td>\n",
       "      <td>59.0435</td>\n",
       "      <td>10.739832</td>\n",
       "      <td>108</td>\n",
       "      <td>1454</td>\n",
       "      <td>1562</td>\n",
       "    </tr>\n",
       "    <tr>\n",
       "      <th>4</th>\n",
       "      <td>5</td>\n",
       "      <td>05-01-2018</td>\n",
       "      <td>1</td>\n",
       "      <td>0</td>\n",
       "      <td>1</td>\n",
       "      <td>0</td>\n",
       "      <td>3</td>\n",
       "      <td>1</td>\n",
       "      <td>1</td>\n",
       "      <td>9.305237</td>\n",
       "      <td>11.46350</td>\n",
       "      <td>43.6957</td>\n",
       "      <td>12.522300</td>\n",
       "      <td>82</td>\n",
       "      <td>1518</td>\n",
       "      <td>1600</td>\n",
       "    </tr>\n",
       "    <tr>\n",
       "      <th>5</th>\n",
       "      <td>6</td>\n",
       "      <td>06-01-2018</td>\n",
       "      <td>1</td>\n",
       "      <td>0</td>\n",
       "      <td>1</td>\n",
       "      <td>0</td>\n",
       "      <td>4</td>\n",
       "      <td>1</td>\n",
       "      <td>1</td>\n",
       "      <td>8.378268</td>\n",
       "      <td>11.66045</td>\n",
       "      <td>51.8261</td>\n",
       "      <td>6.000868</td>\n",
       "      <td>88</td>\n",
       "      <td>1518</td>\n",
       "      <td>1606</td>\n",
       "    </tr>\n",
       "    <tr>\n",
       "      <th>6</th>\n",
       "      <td>7</td>\n",
       "      <td>07-01-2018</td>\n",
       "      <td>1</td>\n",
       "      <td>0</td>\n",
       "      <td>1</td>\n",
       "      <td>0</td>\n",
       "      <td>5</td>\n",
       "      <td>1</td>\n",
       "      <td>2</td>\n",
       "      <td>8.057402</td>\n",
       "      <td>10.44195</td>\n",
       "      <td>49.8696</td>\n",
       "      <td>11.304642</td>\n",
       "      <td>148</td>\n",
       "      <td>1362</td>\n",
       "      <td>1510</td>\n",
       "    </tr>\n",
       "    <tr>\n",
       "      <th>7</th>\n",
       "      <td>8</td>\n",
       "      <td>08-01-2018</td>\n",
       "      <td>1</td>\n",
       "      <td>0</td>\n",
       "      <td>1</td>\n",
       "      <td>0</td>\n",
       "      <td>6</td>\n",
       "      <td>0</td>\n",
       "      <td>2</td>\n",
       "      <td>6.765000</td>\n",
       "      <td>8.11270</td>\n",
       "      <td>53.5833</td>\n",
       "      <td>17.875868</td>\n",
       "      <td>68</td>\n",
       "      <td>891</td>\n",
       "      <td>959</td>\n",
       "    </tr>\n",
       "    <tr>\n",
       "      <th>8</th>\n",
       "      <td>9</td>\n",
       "      <td>09-01-2018</td>\n",
       "      <td>1</td>\n",
       "      <td>0</td>\n",
       "      <td>1</td>\n",
       "      <td>0</td>\n",
       "      <td>0</td>\n",
       "      <td>0</td>\n",
       "      <td>1</td>\n",
       "      <td>5.671653</td>\n",
       "      <td>5.80875</td>\n",
       "      <td>43.4167</td>\n",
       "      <td>24.250650</td>\n",
       "      <td>54</td>\n",
       "      <td>768</td>\n",
       "      <td>822</td>\n",
       "    </tr>\n",
       "    <tr>\n",
       "      <th>9</th>\n",
       "      <td>10</td>\n",
       "      <td>10-01-2018</td>\n",
       "      <td>1</td>\n",
       "      <td>0</td>\n",
       "      <td>1</td>\n",
       "      <td>0</td>\n",
       "      <td>1</td>\n",
       "      <td>1</td>\n",
       "      <td>1</td>\n",
       "      <td>6.184153</td>\n",
       "      <td>7.54440</td>\n",
       "      <td>48.2917</td>\n",
       "      <td>14.958889</td>\n",
       "      <td>41</td>\n",
       "      <td>1280</td>\n",
       "      <td>1321</td>\n",
       "    </tr>\n",
       "  </tbody>\n",
       "</table>\n",
       "</div>"
      ],
      "text/plain": [
       "   instant      dteday  season  yr  mnth  holiday  weekday  workingday  \\\n",
       "0        1  01-01-2018       1   0     1        0        6           0   \n",
       "1        2  02-01-2018       1   0     1        0        0           0   \n",
       "2        3  03-01-2018       1   0     1        0        1           1   \n",
       "3        4  04-01-2018       1   0     1        0        2           1   \n",
       "4        5  05-01-2018       1   0     1        0        3           1   \n",
       "5        6  06-01-2018       1   0     1        0        4           1   \n",
       "6        7  07-01-2018       1   0     1        0        5           1   \n",
       "7        8  08-01-2018       1   0     1        0        6           0   \n",
       "8        9  09-01-2018       1   0     1        0        0           0   \n",
       "9       10  10-01-2018       1   0     1        0        1           1   \n",
       "\n",
       "   weathersit       temp     atemp      hum  windspeed  casual  registered  \\\n",
       "0           2  14.110847  18.18125  80.5833  10.749882     331         654   \n",
       "1           2  14.902598  17.68695  69.6087  16.652113     131         670   \n",
       "2           1   8.050924   9.47025  43.7273  16.636703     120        1229   \n",
       "3           1   8.200000  10.60610  59.0435  10.739832     108        1454   \n",
       "4           1   9.305237  11.46350  43.6957  12.522300      82        1518   \n",
       "5           1   8.378268  11.66045  51.8261   6.000868      88        1518   \n",
       "6           2   8.057402  10.44195  49.8696  11.304642     148        1362   \n",
       "7           2   6.765000   8.11270  53.5833  17.875868      68         891   \n",
       "8           1   5.671653   5.80875  43.4167  24.250650      54         768   \n",
       "9           1   6.184153   7.54440  48.2917  14.958889      41        1280   \n",
       "\n",
       "    cnt  \n",
       "0   985  \n",
       "1   801  \n",
       "2  1349  \n",
       "3  1562  \n",
       "4  1600  \n",
       "5  1606  \n",
       "6  1510  \n",
       "7   959  \n",
       "8   822  \n",
       "9  1321  "
      ]
     },
     "execution_count": 4,
     "metadata": {},
     "output_type": "execute_result"
    }
   ],
   "source": [
    "# Check the head of the dataset\n",
    "data.head(10)"
   ]
  },
  {
   "cell_type": "code",
   "execution_count": 5,
   "metadata": {},
   "outputs": [
    {
     "data": {
      "text/html": [
       "<div>\n",
       "<style scoped>\n",
       "    .dataframe tbody tr th:only-of-type {\n",
       "        vertical-align: middle;\n",
       "    }\n",
       "\n",
       "    .dataframe tbody tr th {\n",
       "        vertical-align: top;\n",
       "    }\n",
       "\n",
       "    .dataframe thead th {\n",
       "        text-align: right;\n",
       "    }\n",
       "</style>\n",
       "<table border=\"1\" class=\"dataframe\">\n",
       "  <thead>\n",
       "    <tr style=\"text-align: right;\">\n",
       "      <th></th>\n",
       "      <th>instant</th>\n",
       "      <th>dteday</th>\n",
       "      <th>season</th>\n",
       "      <th>yr</th>\n",
       "      <th>mnth</th>\n",
       "      <th>holiday</th>\n",
       "      <th>weekday</th>\n",
       "      <th>workingday</th>\n",
       "      <th>weathersit</th>\n",
       "      <th>temp</th>\n",
       "      <th>atemp</th>\n",
       "      <th>hum</th>\n",
       "      <th>windspeed</th>\n",
       "      <th>casual</th>\n",
       "      <th>registered</th>\n",
       "      <th>cnt</th>\n",
       "    </tr>\n",
       "  </thead>\n",
       "  <tbody>\n",
       "    <tr>\n",
       "      <th>720</th>\n",
       "      <td>721</td>\n",
       "      <td>22-12-2019</td>\n",
       "      <td>1</td>\n",
       "      <td>1</td>\n",
       "      <td>12</td>\n",
       "      <td>0</td>\n",
       "      <td>6</td>\n",
       "      <td>0</td>\n",
       "      <td>1</td>\n",
       "      <td>10.899153</td>\n",
       "      <td>11.80565</td>\n",
       "      <td>44.1250</td>\n",
       "      <td>27.292182</td>\n",
       "      <td>205</td>\n",
       "      <td>1544</td>\n",
       "      <td>1749</td>\n",
       "    </tr>\n",
       "    <tr>\n",
       "      <th>721</th>\n",
       "      <td>722</td>\n",
       "      <td>23-12-2019</td>\n",
       "      <td>1</td>\n",
       "      <td>1</td>\n",
       "      <td>12</td>\n",
       "      <td>0</td>\n",
       "      <td>0</td>\n",
       "      <td>0</td>\n",
       "      <td>1</td>\n",
       "      <td>10.079153</td>\n",
       "      <td>12.97355</td>\n",
       "      <td>51.5417</td>\n",
       "      <td>8.916561</td>\n",
       "      <td>408</td>\n",
       "      <td>1379</td>\n",
       "      <td>1787</td>\n",
       "    </tr>\n",
       "    <tr>\n",
       "      <th>722</th>\n",
       "      <td>723</td>\n",
       "      <td>24-12-2019</td>\n",
       "      <td>1</td>\n",
       "      <td>1</td>\n",
       "      <td>12</td>\n",
       "      <td>0</td>\n",
       "      <td>1</td>\n",
       "      <td>1</td>\n",
       "      <td>2</td>\n",
       "      <td>9.483464</td>\n",
       "      <td>12.94500</td>\n",
       "      <td>79.1304</td>\n",
       "      <td>5.174437</td>\n",
       "      <td>174</td>\n",
       "      <td>746</td>\n",
       "      <td>920</td>\n",
       "    </tr>\n",
       "    <tr>\n",
       "      <th>723</th>\n",
       "      <td>724</td>\n",
       "      <td>25-12-2019</td>\n",
       "      <td>1</td>\n",
       "      <td>1</td>\n",
       "      <td>12</td>\n",
       "      <td>1</td>\n",
       "      <td>2</td>\n",
       "      <td>0</td>\n",
       "      <td>2</td>\n",
       "      <td>11.943464</td>\n",
       "      <td>14.72325</td>\n",
       "      <td>73.4783</td>\n",
       "      <td>11.304642</td>\n",
       "      <td>440</td>\n",
       "      <td>573</td>\n",
       "      <td>1013</td>\n",
       "    </tr>\n",
       "    <tr>\n",
       "      <th>724</th>\n",
       "      <td>725</td>\n",
       "      <td>26-12-2019</td>\n",
       "      <td>1</td>\n",
       "      <td>1</td>\n",
       "      <td>12</td>\n",
       "      <td>0</td>\n",
       "      <td>3</td>\n",
       "      <td>1</td>\n",
       "      <td>3</td>\n",
       "      <td>9.976653</td>\n",
       "      <td>11.01665</td>\n",
       "      <td>82.3333</td>\n",
       "      <td>21.208582</td>\n",
       "      <td>9</td>\n",
       "      <td>432</td>\n",
       "      <td>441</td>\n",
       "    </tr>\n",
       "    <tr>\n",
       "      <th>725</th>\n",
       "      <td>726</td>\n",
       "      <td>27-12-2019</td>\n",
       "      <td>1</td>\n",
       "      <td>1</td>\n",
       "      <td>12</td>\n",
       "      <td>0</td>\n",
       "      <td>4</td>\n",
       "      <td>1</td>\n",
       "      <td>2</td>\n",
       "      <td>10.420847</td>\n",
       "      <td>11.33210</td>\n",
       "      <td>65.2917</td>\n",
       "      <td>23.458911</td>\n",
       "      <td>247</td>\n",
       "      <td>1867</td>\n",
       "      <td>2114</td>\n",
       "    </tr>\n",
       "    <tr>\n",
       "      <th>726</th>\n",
       "      <td>727</td>\n",
       "      <td>28-12-2019</td>\n",
       "      <td>1</td>\n",
       "      <td>1</td>\n",
       "      <td>12</td>\n",
       "      <td>0</td>\n",
       "      <td>5</td>\n",
       "      <td>1</td>\n",
       "      <td>2</td>\n",
       "      <td>10.386653</td>\n",
       "      <td>12.75230</td>\n",
       "      <td>59.0000</td>\n",
       "      <td>10.416557</td>\n",
       "      <td>644</td>\n",
       "      <td>2451</td>\n",
       "      <td>3095</td>\n",
       "    </tr>\n",
       "    <tr>\n",
       "      <th>727</th>\n",
       "      <td>728</td>\n",
       "      <td>29-12-2019</td>\n",
       "      <td>1</td>\n",
       "      <td>1</td>\n",
       "      <td>12</td>\n",
       "      <td>0</td>\n",
       "      <td>6</td>\n",
       "      <td>0</td>\n",
       "      <td>2</td>\n",
       "      <td>10.386653</td>\n",
       "      <td>12.12000</td>\n",
       "      <td>75.2917</td>\n",
       "      <td>8.333661</td>\n",
       "      <td>159</td>\n",
       "      <td>1182</td>\n",
       "      <td>1341</td>\n",
       "    </tr>\n",
       "    <tr>\n",
       "      <th>728</th>\n",
       "      <td>729</td>\n",
       "      <td>30-12-2019</td>\n",
       "      <td>1</td>\n",
       "      <td>1</td>\n",
       "      <td>12</td>\n",
       "      <td>0</td>\n",
       "      <td>0</td>\n",
       "      <td>0</td>\n",
       "      <td>1</td>\n",
       "      <td>10.489153</td>\n",
       "      <td>11.58500</td>\n",
       "      <td>48.3333</td>\n",
       "      <td>23.500518</td>\n",
       "      <td>364</td>\n",
       "      <td>1432</td>\n",
       "      <td>1796</td>\n",
       "    </tr>\n",
       "    <tr>\n",
       "      <th>729</th>\n",
       "      <td>730</td>\n",
       "      <td>31-12-2019</td>\n",
       "      <td>1</td>\n",
       "      <td>1</td>\n",
       "      <td>12</td>\n",
       "      <td>0</td>\n",
       "      <td>1</td>\n",
       "      <td>1</td>\n",
       "      <td>2</td>\n",
       "      <td>8.849153</td>\n",
       "      <td>11.17435</td>\n",
       "      <td>57.7500</td>\n",
       "      <td>10.374682</td>\n",
       "      <td>439</td>\n",
       "      <td>2290</td>\n",
       "      <td>2729</td>\n",
       "    </tr>\n",
       "  </tbody>\n",
       "</table>\n",
       "</div>"
      ],
      "text/plain": [
       "     instant      dteday  season  yr  mnth  holiday  weekday  workingday  \\\n",
       "720      721  22-12-2019       1   1    12        0        6           0   \n",
       "721      722  23-12-2019       1   1    12        0        0           0   \n",
       "722      723  24-12-2019       1   1    12        0        1           1   \n",
       "723      724  25-12-2019       1   1    12        1        2           0   \n",
       "724      725  26-12-2019       1   1    12        0        3           1   \n",
       "725      726  27-12-2019       1   1    12        0        4           1   \n",
       "726      727  28-12-2019       1   1    12        0        5           1   \n",
       "727      728  29-12-2019       1   1    12        0        6           0   \n",
       "728      729  30-12-2019       1   1    12        0        0           0   \n",
       "729      730  31-12-2019       1   1    12        0        1           1   \n",
       "\n",
       "     weathersit       temp     atemp      hum  windspeed  casual  registered  \\\n",
       "720           1  10.899153  11.80565  44.1250  27.292182     205        1544   \n",
       "721           1  10.079153  12.97355  51.5417   8.916561     408        1379   \n",
       "722           2   9.483464  12.94500  79.1304   5.174437     174         746   \n",
       "723           2  11.943464  14.72325  73.4783  11.304642     440         573   \n",
       "724           3   9.976653  11.01665  82.3333  21.208582       9         432   \n",
       "725           2  10.420847  11.33210  65.2917  23.458911     247        1867   \n",
       "726           2  10.386653  12.75230  59.0000  10.416557     644        2451   \n",
       "727           2  10.386653  12.12000  75.2917   8.333661     159        1182   \n",
       "728           1  10.489153  11.58500  48.3333  23.500518     364        1432   \n",
       "729           2   8.849153  11.17435  57.7500  10.374682     439        2290   \n",
       "\n",
       "      cnt  \n",
       "720  1749  \n",
       "721  1787  \n",
       "722   920  \n",
       "723  1013  \n",
       "724   441  \n",
       "725  2114  \n",
       "726  3095  \n",
       "727  1341  \n",
       "728  1796  \n",
       "729  2729  "
      ]
     },
     "execution_count": 5,
     "metadata": {},
     "output_type": "execute_result"
    }
   ],
   "source": [
    "# Check the head of the dataset\n",
    "data.tail(10)"
   ]
  },
  {
   "cell_type": "code",
   "execution_count": 6,
   "metadata": {},
   "outputs": [],
   "source": [
    "# it can be seen instant just corresponds to row number and hence can be dropped\n",
    "data.drop(['instant'], axis = 1, inplace = True)"
   ]
  },
  {
   "cell_type": "code",
   "execution_count": 7,
   "metadata": {},
   "outputs": [],
   "source": [
    "# Drop 'casual' and 'registered' as their sum 'cnt' is the target variable so we cannot use these for prediction\n",
    "data.drop(['casual', 'registered'], axis = 1, inplace = True)"
   ]
  },
  {
   "cell_type": "code",
   "execution_count": 8,
   "metadata": {},
   "outputs": [],
   "source": [
    "#from the dteday field month and year are already available so will extract day and drop this variable\n",
    "data['dteday'] = pd.to_datetime(data['dteday'],format=\"%d-%m-%Y\")\n",
    "data['day'] = pd.DatetimeIndex(data['dteday']).day\n",
    "data.drop(['dteday'], axis = 1, inplace = True)"
   ]
  },
  {
   "cell_type": "markdown",
   "metadata": {},
   "source": [
    "## will check if day variable has any helpful information"
   ]
  },
  {
   "cell_type": "code",
   "execution_count": 9,
   "metadata": {},
   "outputs": [],
   "source": [
    "import matplotlib.pyplot as plt\n",
    "import seaborn as sns"
   ]
  },
  {
   "cell_type": "code",
   "execution_count": 10,
   "metadata": {},
   "outputs": [
    {
     "data": {
      "image/png": "[encoded data removed]",
      "text/plain": [
       "<Figure size 432x288 with 1 Axes>"
      ]
     },
     "metadata": {
      "needs_background": "light"
     },
     "output_type": "display_data"
    }
   ],
   "source": [
    "#visualize day variable\n",
    "sns.boxplot(x = 'day', y = 'cnt', data = data)\n",
    "plt.show()"
   ]
  },
  {
   "cell_type": "code",
   "execution_count": 11,
   "metadata": {},
   "outputs": [],
   "source": [
    "# can't see much differentiation based on day variable so will drop it\n",
    "data.drop(['day'], axis = 1, inplace = True)"
   ]
  },
  {
   "cell_type": "markdown",
   "metadata": {},
   "source": [
    "## Inspect the various aspects of the data"
   ]
  },
  {
   "cell_type": "code",
   "execution_count": 12,
   "metadata": {},
   "outputs": [
    {
     "data": {
      "text/html": [
       "<div>\n",
       "<style scoped>\n",
       "    .dataframe tbody tr th:only-of-type {\n",
       "        vertical-align: middle;\n",
       "    }\n",
       "\n",
       "    .dataframe tbody tr th {\n",
       "        vertical-align: top;\n",
       "    }\n",
       "\n",
       "    .dataframe thead th {\n",
       "        text-align: right;\n",
       "    }\n",
       "</style>\n",
       "<table border=\"1\" class=\"dataframe\">\n",
       "  <thead>\n",
       "    <tr style=\"text-align: right;\">\n",
       "      <th></th>\n",
       "      <th>season</th>\n",
       "      <th>yr</th>\n",
       "      <th>mnth</th>\n",
       "      <th>holiday</th>\n",
       "      <th>weekday</th>\n",
       "      <th>workingday</th>\n",
       "      <th>weathersit</th>\n",
       "      <th>temp</th>\n",
       "      <th>atemp</th>\n",
       "      <th>hum</th>\n",
       "      <th>windspeed</th>\n",
       "      <th>cnt</th>\n",
       "    </tr>\n",
       "  </thead>\n",
       "  <tbody>\n",
       "    <tr>\n",
       "      <th>0</th>\n",
       "      <td>1</td>\n",
       "      <td>0</td>\n",
       "      <td>1</td>\n",
       "      <td>0</td>\n",
       "      <td>6</td>\n",
       "      <td>0</td>\n",
       "      <td>2</td>\n",
       "      <td>14.110847</td>\n",
       "      <td>18.18125</td>\n",
       "      <td>80.5833</td>\n",
       "      <td>10.749882</td>\n",
       "      <td>985</td>\n",
       "    </tr>\n",
       "    <tr>\n",
       "      <th>1</th>\n",
       "      <td>1</td>\n",
       "      <td>0</td>\n",
       "      <td>1</td>\n",
       "      <td>0</td>\n",
       "      <td>0</td>\n",
       "      <td>0</td>\n",
       "      <td>2</td>\n",
       "      <td>14.902598</td>\n",
       "      <td>17.68695</td>\n",
       "      <td>69.6087</td>\n",
       "      <td>16.652113</td>\n",
       "      <td>801</td>\n",
       "    </tr>\n",
       "    <tr>\n",
       "      <th>2</th>\n",
       "      <td>1</td>\n",
       "      <td>0</td>\n",
       "      <td>1</td>\n",
       "      <td>0</td>\n",
       "      <td>1</td>\n",
       "      <td>1</td>\n",
       "      <td>1</td>\n",
       "      <td>8.050924</td>\n",
       "      <td>9.47025</td>\n",
       "      <td>43.7273</td>\n",
       "      <td>16.636703</td>\n",
       "      <td>1349</td>\n",
       "    </tr>\n",
       "    <tr>\n",
       "      <th>3</th>\n",
       "      <td>1</td>\n",
       "      <td>0</td>\n",
       "      <td>1</td>\n",
       "      <td>0</td>\n",
       "      <td>2</td>\n",
       "      <td>1</td>\n",
       "      <td>1</td>\n",
       "      <td>8.200000</td>\n",
       "      <td>10.60610</td>\n",
       "      <td>59.0435</td>\n",
       "      <td>10.739832</td>\n",
       "      <td>1562</td>\n",
       "    </tr>\n",
       "    <tr>\n",
       "      <th>4</th>\n",
       "      <td>1</td>\n",
       "      <td>0</td>\n",
       "      <td>1</td>\n",
       "      <td>0</td>\n",
       "      <td>3</td>\n",
       "      <td>1</td>\n",
       "      <td>1</td>\n",
       "      <td>9.305237</td>\n",
       "      <td>11.46350</td>\n",
       "      <td>43.6957</td>\n",
       "      <td>12.522300</td>\n",
       "      <td>1600</td>\n",
       "    </tr>\n",
       "  </tbody>\n",
       "</table>\n",
       "</div>"
      ],
      "text/plain": [
       "   season  yr  mnth  holiday  weekday  workingday  weathersit       temp  \\\n",
       "0       1   0     1        0        6           0           2  14.110847   \n",
       "1       1   0     1        0        0           0           2  14.902598   \n",
       "2       1   0     1        0        1           1           1   8.050924   \n",
       "3       1   0     1        0        2           1           1   8.200000   \n",
       "4       1   0     1        0        3           1           1   9.305237   \n",
       "\n",
       "      atemp      hum  windspeed   cnt  \n",
       "0  18.18125  80.5833  10.749882   985  \n",
       "1  17.68695  69.6087  16.652113   801  \n",
       "2   9.47025  43.7273  16.636703  1349  \n",
       "3  10.60610  59.0435  10.739832  1562  \n",
       "4  11.46350  43.6957  12.522300  1600  "
      ]
     },
     "execution_count": 12,
     "metadata": {},
     "output_type": "execute_result"
    }
   ],
   "source": [
    "data.head()"
   ]
  },
  {
   "cell_type": "code",
   "execution_count": 13,
   "metadata": {},
   "outputs": [
    {
     "data": {
      "text/html": [
       "<div>\n",
       "<style scoped>\n",
       "    .dataframe tbody tr th:only-of-type {\n",
       "        vertical-align: middle;\n",
       "    }\n",
       "\n",
       "    .dataframe tbody tr th {\n",
       "        vertical-align: top;\n",
       "    }\n",
       "\n",
       "    .dataframe thead th {\n",
       "        text-align: right;\n",
       "    }\n",
       "</style>\n",
       "<table border=\"1\" class=\"dataframe\">\n",
       "  <thead>\n",
       "    <tr style=\"text-align: right;\">\n",
       "      <th></th>\n",
       "      <th>season</th>\n",
       "      <th>yr</th>\n",
       "      <th>mnth</th>\n",
       "      <th>holiday</th>\n",
       "      <th>weekday</th>\n",
       "      <th>workingday</th>\n",
       "      <th>weathersit</th>\n",
       "      <th>temp</th>\n",
       "      <th>atemp</th>\n",
       "      <th>hum</th>\n",
       "      <th>windspeed</th>\n",
       "      <th>cnt</th>\n",
       "    </tr>\n",
       "  </thead>\n",
       "  <tbody>\n",
       "    <tr>\n",
       "      <th>725</th>\n",
       "      <td>1</td>\n",
       "      <td>1</td>\n",
       "      <td>12</td>\n",
       "      <td>0</td>\n",
       "      <td>4</td>\n",
       "      <td>1</td>\n",
       "      <td>2</td>\n",
       "      <td>10.420847</td>\n",
       "      <td>11.33210</td>\n",
       "      <td>65.2917</td>\n",
       "      <td>23.458911</td>\n",
       "      <td>2114</td>\n",
       "    </tr>\n",
       "    <tr>\n",
       "      <th>726</th>\n",
       "      <td>1</td>\n",
       "      <td>1</td>\n",
       "      <td>12</td>\n",
       "      <td>0</td>\n",
       "      <td>5</td>\n",
       "      <td>1</td>\n",
       "      <td>2</td>\n",
       "      <td>10.386653</td>\n",
       "      <td>12.75230</td>\n",
       "      <td>59.0000</td>\n",
       "      <td>10.416557</td>\n",
       "      <td>3095</td>\n",
       "    </tr>\n",
       "    <tr>\n",
       "      <th>727</th>\n",
       "      <td>1</td>\n",
       "      <td>1</td>\n",
       "      <td>12</td>\n",
       "      <td>0</td>\n",
       "      <td>6</td>\n",
       "      <td>0</td>\n",
       "      <td>2</td>\n",
       "      <td>10.386653</td>\n",
       "      <td>12.12000</td>\n",
       "      <td>75.2917</td>\n",
       "      <td>8.333661</td>\n",
       "      <td>1341</td>\n",
       "    </tr>\n",
       "    <tr>\n",
       "      <th>728</th>\n",
       "      <td>1</td>\n",
       "      <td>1</td>\n",
       "      <td>12</td>\n",
       "      <td>0</td>\n",
       "      <td>0</td>\n",
       "      <td>0</td>\n",
       "      <td>1</td>\n",
       "      <td>10.489153</td>\n",
       "      <td>11.58500</td>\n",
       "      <td>48.3333</td>\n",
       "      <td>23.500518</td>\n",
       "      <td>1796</td>\n",
       "    </tr>\n",
       "    <tr>\n",
       "      <th>729</th>\n",
       "      <td>1</td>\n",
       "      <td>1</td>\n",
       "      <td>12</td>\n",
       "      <td>0</td>\n",
       "      <td>1</td>\n",
       "      <td>1</td>\n",
       "      <td>2</td>\n",
       "      <td>8.849153</td>\n",
       "      <td>11.17435</td>\n",
       "      <td>57.7500</td>\n",
       "      <td>10.374682</td>\n",
       "      <td>2729</td>\n",
       "    </tr>\n",
       "  </tbody>\n",
       "</table>\n",
       "</div>"
      ],
      "text/plain": [
       "     season  yr  mnth  holiday  weekday  workingday  weathersit       temp  \\\n",
       "725       1   1    12        0        4           1           2  10.420847   \n",
       "726       1   1    12        0        5           1           2  10.386653   \n",
       "727       1   1    12        0        6           0           2  10.386653   \n",
       "728       1   1    12        0        0           0           1  10.489153   \n",
       "729       1   1    12        0        1           1           2   8.849153   \n",
       "\n",
       "        atemp      hum  windspeed   cnt  \n",
       "725  11.33210  65.2917  23.458911  2114  \n",
       "726  12.75230  59.0000  10.416557  3095  \n",
       "727  12.12000  75.2917   8.333661  1341  \n",
       "728  11.58500  48.3333  23.500518  1796  \n",
       "729  11.17435  57.7500  10.374682  2729  "
      ]
     },
     "execution_count": 13,
     "metadata": {},
     "output_type": "execute_result"
    }
   ],
   "source": [
    "data.tail()"
   ]
  },
  {
   "cell_type": "code",
   "execution_count": 14,
   "metadata": {},
   "outputs": [
    {
     "data": {
      "text/plain": [
       "(730, 12)"
      ]
     },
     "execution_count": 14,
     "metadata": {},
     "output_type": "execute_result"
    }
   ],
   "source": [
    "data.shape"
   ]
  },
  {
   "cell_type": "code",
   "execution_count": 15,
   "metadata": {},
   "outputs": [
    {
     "name": "stdout",
     "output_type": "stream",
     "text": [
      "<class 'pandas.core.frame.DataFrame'>\n",
      "RangeIndex: 730 entries, 0 to 729\n",
      "Data columns (total 12 columns):\n",
      " #   Column      Non-Null Count  Dtype  \n",
      "---  ------      --------------  -----  \n",
      " 0   season      730 non-null    int64  \n",
      " 1   yr          730 non-null    int64  \n",
      " 2   mnth        730 non-null    int64  \n",
      " 3   holiday     730 non-null    int64  \n",
      " 4   weekday     730 non-null    int64  \n",
      " 5   workingday  730 non-null    int64  \n",
      " 6   weathersit  730 non-null    int64  \n",
      " 7   temp        730 non-null    float64\n",
      " 8   atemp       730 non-null    float64\n",
      " 9   hum         730 non-null    float64\n",
      " 10  windspeed   730 non-null    float64\n",
      " 11  cnt         730 non-null    int64  \n",
      "dtypes: float64(4), int64(8)\n",
      "memory usage: 68.6 KB\n"
     ]
    }
   ],
   "source": [
    "data.info()"
   ]
  },
  {
   "cell_type": "code",
   "execution_count": 16,
   "metadata": {
    "scrolled": true
   },
   "outputs": [
    {
     "data": {
      "text/html": [
       "<div>\n",
       "<style scoped>\n",
       "    .dataframe tbody tr th:only-of-type {\n",
       "        vertical-align: middle;\n",
       "    }\n",
       "\n",
       "    .dataframe tbody tr th {\n",
       "        vertical-align: top;\n",
       "    }\n",
       "\n",
       "    .dataframe thead th {\n",
       "        text-align: right;\n",
       "    }\n",
       "</style>\n",
       "<table border=\"1\" class=\"dataframe\">\n",
       "  <thead>\n",
       "    <tr style=\"text-align: right;\">\n",
       "      <th></th>\n",
       "      <th>season</th>\n",
       "      <th>yr</th>\n",
       "      <th>mnth</th>\n",
       "      <th>holiday</th>\n",
       "      <th>weekday</th>\n",
       "      <th>workingday</th>\n",
       "      <th>weathersit</th>\n",
       "      <th>temp</th>\n",
       "      <th>atemp</th>\n",
       "      <th>hum</th>\n",
       "      <th>windspeed</th>\n",
       "      <th>cnt</th>\n",
       "    </tr>\n",
       "  </thead>\n",
       "  <tbody>\n",
       "    <tr>\n",
       "      <th>count</th>\n",
       "      <td>730.000000</td>\n",
       "      <td>730.000000</td>\n",
       "      <td>730.000000</td>\n",
       "      <td>730.000000</td>\n",
       "      <td>730.000000</td>\n",
       "      <td>730.000000</td>\n",
       "      <td>730.000000</td>\n",
       "      <td>730.000000</td>\n",
       "      <td>730.000000</td>\n",
       "      <td>730.000000</td>\n",
       "      <td>730.000000</td>\n",
       "      <td>730.000000</td>\n",
       "    </tr>\n",
       "    <tr>\n",
       "      <th>mean</th>\n",
       "      <td>2.498630</td>\n",
       "      <td>0.500000</td>\n",
       "      <td>6.526027</td>\n",
       "      <td>0.028767</td>\n",
       "      <td>2.997260</td>\n",
       "      <td>0.683562</td>\n",
       "      <td>1.394521</td>\n",
       "      <td>20.319259</td>\n",
       "      <td>23.726322</td>\n",
       "      <td>62.765175</td>\n",
       "      <td>12.763620</td>\n",
       "      <td>4508.006849</td>\n",
       "    </tr>\n",
       "    <tr>\n",
       "      <th>std</th>\n",
       "      <td>1.110184</td>\n",
       "      <td>0.500343</td>\n",
       "      <td>3.450215</td>\n",
       "      <td>0.167266</td>\n",
       "      <td>2.006161</td>\n",
       "      <td>0.465405</td>\n",
       "      <td>0.544807</td>\n",
       "      <td>7.506729</td>\n",
       "      <td>8.150308</td>\n",
       "      <td>14.237589</td>\n",
       "      <td>5.195841</td>\n",
       "      <td>1936.011647</td>\n",
       "    </tr>\n",
       "    <tr>\n",
       "      <th>min</th>\n",
       "      <td>1.000000</td>\n",
       "      <td>0.000000</td>\n",
       "      <td>1.000000</td>\n",
       "      <td>0.000000</td>\n",
       "      <td>0.000000</td>\n",
       "      <td>0.000000</td>\n",
       "      <td>1.000000</td>\n",
       "      <td>2.424346</td>\n",
       "      <td>3.953480</td>\n",
       "      <td>0.000000</td>\n",
       "      <td>1.500244</td>\n",
       "      <td>22.000000</td>\n",
       "    </tr>\n",
       "    <tr>\n",
       "      <th>25%</th>\n",
       "      <td>2.000000</td>\n",
       "      <td>0.000000</td>\n",
       "      <td>4.000000</td>\n",
       "      <td>0.000000</td>\n",
       "      <td>1.000000</td>\n",
       "      <td>0.000000</td>\n",
       "      <td>1.000000</td>\n",
       "      <td>13.811885</td>\n",
       "      <td>16.889713</td>\n",
       "      <td>52.000000</td>\n",
       "      <td>9.041650</td>\n",
       "      <td>3169.750000</td>\n",
       "    </tr>\n",
       "    <tr>\n",
       "      <th>50%</th>\n",
       "      <td>3.000000</td>\n",
       "      <td>0.500000</td>\n",
       "      <td>7.000000</td>\n",
       "      <td>0.000000</td>\n",
       "      <td>3.000000</td>\n",
       "      <td>1.000000</td>\n",
       "      <td>1.000000</td>\n",
       "      <td>20.465826</td>\n",
       "      <td>24.368225</td>\n",
       "      <td>62.625000</td>\n",
       "      <td>12.125325</td>\n",
       "      <td>4548.500000</td>\n",
       "    </tr>\n",
       "    <tr>\n",
       "      <th>75%</th>\n",
       "      <td>3.000000</td>\n",
       "      <td>1.000000</td>\n",
       "      <td>10.000000</td>\n",
       "      <td>0.000000</td>\n",
       "      <td>5.000000</td>\n",
       "      <td>1.000000</td>\n",
       "      <td>2.000000</td>\n",
       "      <td>26.880615</td>\n",
       "      <td>30.445775</td>\n",
       "      <td>72.989575</td>\n",
       "      <td>15.625589</td>\n",
       "      <td>5966.000000</td>\n",
       "    </tr>\n",
       "    <tr>\n",
       "      <th>max</th>\n",
       "      <td>4.000000</td>\n",
       "      <td>1.000000</td>\n",
       "      <td>12.000000</td>\n",
       "      <td>1.000000</td>\n",
       "      <td>6.000000</td>\n",
       "      <td>1.000000</td>\n",
       "      <td>3.000000</td>\n",
       "      <td>35.328347</td>\n",
       "      <td>42.044800</td>\n",
       "      <td>97.250000</td>\n",
       "      <td>34.000021</td>\n",
       "      <td>8714.000000</td>\n",
       "    </tr>\n",
       "  </tbody>\n",
       "</table>\n",
       "</div>"
      ],
      "text/plain": [
       "           season          yr        mnth     holiday     weekday  workingday  \\\n",
       "count  730.000000  730.000000  730.000000  730.000000  730.000000  730.000000   \n",
       "mean     2.498630    0.500000    6.526027    0.028767    2.997260    0.683562   \n",
       "std      1.110184    0.500343    3.450215    0.167266    2.006161    0.465405   \n",
       "min      1.000000    0.000000    1.000000    0.000000    0.000000    0.000000   \n",
       "25%      2.000000    0.000000    4.000000    0.000000    1.000000    0.000000   \n",
       "50%      3.000000    0.500000    7.000000    0.000000    3.000000    1.000000   \n",
       "75%      3.000000    1.000000   10.000000    0.000000    5.000000    1.000000   \n",
       "max      4.000000    1.000000   12.000000    1.000000    6.000000    1.000000   \n",
       "\n",
       "       weathersit        temp       atemp         hum   windspeed          cnt  \n",
       "count  730.000000  730.000000  730.000000  730.000000  730.000000   730.000000  \n",
       "mean     1.394521   20.319259   23.726322   62.765175   12.763620  4508.006849  \n",
       "std      0.544807    7.506729    8.150308   14.237589    5.195841  1936.011647  \n",
       "min      1.000000    2.424346    3.953480    0.000000    1.500244    22.000000  \n",
       "25%      1.000000   13.811885   16.889713   52.000000    9.041650  3169.750000  \n",
       "50%      1.000000   20.465826   24.368225   62.625000   12.125325  4548.500000  \n",
       "75%      2.000000   26.880615   30.445775   72.989575   15.625589  5966.000000  \n",
       "max      3.000000   35.328347   42.044800   97.250000   34.000021  8714.000000  "
      ]
     },
     "execution_count": 16,
     "metadata": {},
     "output_type": "execute_result"
    }
   ],
   "source": [
    "data.describe()"
   ]
  },
  {
   "cell_type": "markdown",
   "metadata": {},
   "source": [
    "## Step 2: Visualising the Data\n",
    "\n",
    "Let's now spend some time doing what is arguably the most important step - **understanding the data**.\n",
    "- If there is some obvious multicollinearity going on, this is the first place to catch it\n",
    "- Here's where you'll also identify if some predictors directly have a strong association with the outcome variable\n",
    "\n",
    "We'll visualise our data using `matplotlib` and `seaborn`."
   ]
  },
  {
   "cell_type": "code",
   "execution_count": 17,
   "metadata": {},
   "outputs": [],
   "source": [
    "numeric = ['temp', 'atemp', 'hum', 'windspeed', 'cnt']\n",
    "categorical = ['season', 'yr', 'mnth', 'holiday', 'weekday', 'workingday', 'weathersit']"
   ]
  },
  {
   "cell_type": "markdown",
   "metadata": {},
   "source": [
    "#### Visualising Numeric Variables\n",
    "\n",
    "pairplot of all the numeric variables"
   ]
  },
  {
   "cell_type": "code",
   "execution_count": 18,
   "metadata": {},
   "outputs": [
    {
     "data": {
      "image/png": "[encoded data removed]",
      "text/plain": [
       "<Figure size 900x900 with 30 Axes>"
      ]
     },
     "metadata": {
      "needs_background": "light"
     },
     "output_type": "display_data"
    }
   ],
   "source": [
    "sns.pairplot(data[numeric])\n",
    "plt.show()"
   ]
  },
  {
   "cell_type": "code",
   "execution_count": 19,
   "metadata": {},
   "outputs": [
    {
     "data": {
      "image/png": "[encoded data removed]",
      "text/plain": [
       "<Figure size 1152x720 with 2 Axes>"
      ]
     },
     "metadata": {
      "needs_background": "light"
     },
     "output_type": "display_data"
    }
   ],
   "source": [
    "#check the correlation coefficients to see which variables are highly correlated\n",
    "\n",
    "plt.figure(figsize = (16, 10))\n",
    "sns.heatmap(data[numeric].corr(), annot = True, fmt='.4g', cmap=\"YlGnBu\")\n",
    "plt.show()"
   ]
  },
  {
   "cell_type": "markdown",
   "metadata": {},
   "source": [
    "it can be seen that temp and atemp are very highly correlated so it only makes sense to keep one <br>\n",
    "atemp has a higher correlation of 0.6307 with cnt <br>\n",
    "and from a business sense feeling temperature makes more sense than just temperature <br>\n",
    "so will drop temp variable <br> <br>\n",
    "\n",
    "windspeed shows slight correlation of -0.24 while humidity has very minimal correlation of -.1, will explore these further to see if they add any additional information in multiple linear regression"
   ]
  },
  {
   "cell_type": "code",
   "execution_count": 20,
   "metadata": {},
   "outputs": [],
   "source": [
    "# drop temp col\n",
    "data.drop(['temp'], axis = 1, inplace = True)"
   ]
  },
  {
   "cell_type": "markdown",
   "metadata": {},
   "source": [
    "#### Visualising Categorical Variables\n",
    "\n",
    "make a boxplot for categorical variables."
   ]
  },
  {
   "cell_type": "code",
   "execution_count": 21,
   "metadata": {},
   "outputs": [
    {
     "data": {
      "image/png": "[encoded data removed]",
      "text/plain": [
       "<Figure size 1440x864 with 7 Axes>"
      ]
     },
     "metadata": {
      "needs_background": "light"
     },
     "output_type": "display_data"
    }
   ],
   "source": [
    "plt.figure(figsize=(20, 12))\n",
    "plt.subplot(2,4,1)\n",
    "sns.boxplot(x = 'season', y = 'cnt', data = data)\n",
    "plt.subplot(2,4,2)\n",
    "sns.boxplot(x = 'yr', y = 'cnt', data = data)\n",
    "plt.subplot(2,4,3)\n",
    "sns.boxplot(x = 'mnth', y = 'cnt', data = data)\n",
    "plt.subplot(2,4,4)\n",
    "sns.boxplot(x = 'holiday', y = 'cnt', data = data)\n",
    "plt.subplot(2,4,5)\n",
    "sns.boxplot(x = 'weekday', y = 'cnt', data = data)\n",
    "plt.subplot(2,4,6)\n",
    "sns.boxplot(x = 'workingday', y = 'cnt', data = data)\n",
    "plt.subplot(2,4,7)\n",
    "sns.boxplot(x = 'weathersit', y = 'cnt', data = data)\n",
    "plt.show()"
   ]
  },
  {
   "cell_type": "markdown",
   "metadata": {},
   "source": [
    "### Categorical Variable interpretation\n",
    "Season: Spring (1) seems to clearly have very low ridership compared all other seasons <br>\n",
    "Yr: 2019 had on average much higher ridership then 2018 <br>\n",
    "mnth: january has the lowest ridership and then it keeps gradually increasing every month until May from which it remains elevated until October after which it again tapers off <br>\n",
    "holiday: not much difference can be seen <br>\n",
    "weekday: not much differentiation can be seen <br>\n",
    "workingday: not much differentiation can be seen <br>\n",
    "weathersit: for level 3 (Light Snow, Light Rain + Thunderstorm + Scattered clouds, Light Rain + Scattered clouds) lowest ridership is seen"
   ]
  },
  {
   "cell_type": "markdown",
   "metadata": {},
   "source": [
    "We visualise season and weathersit together by using the `hue` argument to see if there is any interaction."
   ]
  },
  {
   "cell_type": "code",
   "execution_count": 22,
   "metadata": {},
   "outputs": [
    {
     "data": {
      "image/png": "[encoded data removed]",
      "text/plain": [
       "<Figure size 720x360 with 1 Axes>"
      ]
     },
     "metadata": {
      "needs_background": "light"
     },
     "output_type": "display_data"
    }
   ],
   "source": [
    "plt.figure(figsize = (10, 5))\n",
    "sns.boxplot(x = 'season', y = 'cnt', hue = 'weathersit', data = data)\n",
    "plt.show()"
   ]
  },
  {
   "cell_type": "markdown",
   "metadata": {},
   "source": [
    "it can be seen that no interaction is present as the behavior does not change for either variable in presence of the other"
   ]
  },
  {
   "cell_type": "markdown",
   "metadata": {},
   "source": [
    "## Step 3: Data Preparation"
   ]
  },
  {
   "cell_type": "markdown",
   "metadata": {},
   "source": [
    "we look at unique values for some categorical variables"
   ]
  },
  {
   "cell_type": "code",
   "execution_count": 23,
   "metadata": {},
   "outputs": [
    {
     "name": "stdout",
     "output_type": "stream",
     "text": [
      "season \n",
      " 3    188\n",
      "2    184\n",
      "1    180\n",
      "4    178\n",
      "Name: season, dtype: int64\n",
      "yr \n",
      " 0    365\n",
      "1    365\n",
      "Name: yr, dtype: int64\n",
      "mnth \n",
      " 1     62\n",
      "3     62\n",
      "5     62\n",
      "7     62\n",
      "8     62\n",
      "10    62\n",
      "12    62\n",
      "4     60\n",
      "6     60\n",
      "9     60\n",
      "11    60\n",
      "2     56\n",
      "Name: mnth, dtype: int64\n",
      "holiday \n",
      " 0    709\n",
      "1     21\n",
      "Name: holiday, dtype: int64\n",
      "weekday \n",
      " 6    105\n",
      "0    105\n",
      "1    105\n",
      "2    104\n",
      "4    104\n",
      "5    104\n",
      "3    103\n",
      "Name: weekday, dtype: int64\n",
      "workingday \n",
      " 1    499\n",
      "0    231\n",
      "Name: workingday, dtype: int64\n",
      "weathersit \n",
      " 1    463\n",
      "2    246\n",
      "3     21\n",
      "Name: weathersit, dtype: int64\n"
     ]
    }
   ],
   "source": [
    "for x in categorical:\n",
    "  print(x, \"\\n\", data[x].value_counts())"
   ]
  },
  {
   "cell_type": "markdown",
   "metadata": {},
   "source": [
    "### Dummy Variables"
   ]
  },
  {
   "cell_type": "markdown",
   "metadata": {},
   "source": [
    "from above we can see that dummy variables are required for following categorical variables season, mnth, weekday and weathersit <br>\n",
    "for rest they already have 0 and 1 values"
   ]
  },
  {
   "cell_type": "code",
   "execution_count": 24,
   "metadata": {},
   "outputs": [
    {
     "data": {
      "text/plain": [
       "0    1\n",
       "1    1\n",
       "2    1\n",
       "3    1\n",
       "4    1\n",
       "Name: season, dtype: int64"
      ]
     },
     "execution_count": 24,
     "metadata": {},
     "output_type": "execute_result"
    }
   ],
   "source": [
    "data['season'].head()"
   ]
  },
  {
   "cell_type": "code",
   "execution_count": null,
   "metadata": {},
   "outputs": [],
   "source": []
  },
  {
   "cell_type": "code",
   "execution_count": 25,
   "metadata": {},
   "outputs": [],
   "source": [
    "# create dummy variables\n",
    "season = pd.get_dummies(data['season'], prefix=\"season\", drop_first = True)\n",
    "mnth = pd.get_dummies(data['mnth'], prefix=\"mnth\", drop_first = True)\n",
    "weekday = pd.get_dummies(data['weekday'], prefix=\"weekday\", drop_first = True)\n",
    "weathersit = pd.get_dummies(data['weathersit'], prefix=\"weathersit\", drop_first = True)"
   ]
  },
  {
   "cell_type": "code",
   "execution_count": 26,
   "metadata": {},
   "outputs": [
    {
     "data": {
      "text/html": [
       "<div>\n",
       "<style scoped>\n",
       "    .dataframe tbody tr th:only-of-type {\n",
       "        vertical-align: middle;\n",
       "    }\n",
       "\n",
       "    .dataframe tbody tr th {\n",
       "        vertical-align: top;\n",
       "    }\n",
       "\n",
       "    .dataframe thead th {\n",
       "        text-align: right;\n",
       "    }\n",
       "</style>\n",
       "<table border=\"1\" class=\"dataframe\">\n",
       "  <thead>\n",
       "    <tr style=\"text-align: right;\">\n",
       "      <th></th>\n",
       "      <th>season_2</th>\n",
       "      <th>season_3</th>\n",
       "      <th>season_4</th>\n",
       "    </tr>\n",
       "  </thead>\n",
       "  <tbody>\n",
       "    <tr>\n",
       "      <th>0</th>\n",
       "      <td>0</td>\n",
       "      <td>0</td>\n",
       "      <td>0</td>\n",
       "    </tr>\n",
       "    <tr>\n",
       "      <th>1</th>\n",
       "      <td>0</td>\n",
       "      <td>0</td>\n",
       "      <td>0</td>\n",
       "    </tr>\n",
       "    <tr>\n",
       "      <th>2</th>\n",
       "      <td>0</td>\n",
       "      <td>0</td>\n",
       "      <td>0</td>\n",
       "    </tr>\n",
       "    <tr>\n",
       "      <th>3</th>\n",
       "      <td>0</td>\n",
       "      <td>0</td>\n",
       "      <td>0</td>\n",
       "    </tr>\n",
       "    <tr>\n",
       "      <th>4</th>\n",
       "      <td>0</td>\n",
       "      <td>0</td>\n",
       "      <td>0</td>\n",
       "    </tr>\n",
       "  </tbody>\n",
       "</table>\n",
       "</div>"
      ],
      "text/plain": [
       "   season_2  season_3  season_4\n",
       "0         0         0         0\n",
       "1         0         0         0\n",
       "2         0         0         0\n",
       "3         0         0         0\n",
       "4         0         0         0"
      ]
     },
     "execution_count": 26,
     "metadata": {},
     "output_type": "execute_result"
    }
   ],
   "source": [
    "# Check what the dataset 'season' looks like\n",
    "season.head()"
   ]
  },
  {
   "cell_type": "code",
   "execution_count": 27,
   "metadata": {},
   "outputs": [],
   "source": [
    "# Add the results to the original dataframe\n",
    "\n",
    "data = pd.concat([data,season, mnth, weekday, weathersit], axis = 1)"
   ]
  },
  {
   "cell_type": "code",
   "execution_count": 28,
   "metadata": {},
   "outputs": [
    {
     "data": {
      "text/html": [
       "<div>\n",
       "<style scoped>\n",
       "    .dataframe tbody tr th:only-of-type {\n",
       "        vertical-align: middle;\n",
       "    }\n",
       "\n",
       "    .dataframe tbody tr th {\n",
       "        vertical-align: top;\n",
       "    }\n",
       "\n",
       "    .dataframe thead th {\n",
       "        text-align: right;\n",
       "    }\n",
       "</style>\n",
       "<table border=\"1\" class=\"dataframe\">\n",
       "  <thead>\n",
       "    <tr style=\"text-align: right;\">\n",
       "      <th></th>\n",
       "      <th>season</th>\n",
       "      <th>yr</th>\n",
       "      <th>mnth</th>\n",
       "      <th>holiday</th>\n",
       "      <th>weekday</th>\n",
       "      <th>workingday</th>\n",
       "      <th>weathersit</th>\n",
       "      <th>atemp</th>\n",
       "      <th>hum</th>\n",
       "      <th>windspeed</th>\n",
       "      <th>...</th>\n",
       "      <th>mnth_11</th>\n",
       "      <th>mnth_12</th>\n",
       "      <th>weekday_1</th>\n",
       "      <th>weekday_2</th>\n",
       "      <th>weekday_3</th>\n",
       "      <th>weekday_4</th>\n",
       "      <th>weekday_5</th>\n",
       "      <th>weekday_6</th>\n",
       "      <th>weathersit_2</th>\n",
       "      <th>weathersit_3</th>\n",
       "    </tr>\n",
       "  </thead>\n",
       "  <tbody>\n",
       "    <tr>\n",
       "      <th>0</th>\n",
       "      <td>1</td>\n",
       "      <td>0</td>\n",
       "      <td>1</td>\n",
       "      <td>0</td>\n",
       "      <td>6</td>\n",
       "      <td>0</td>\n",
       "      <td>2</td>\n",
       "      <td>18.18125</td>\n",
       "      <td>80.5833</td>\n",
       "      <td>10.749882</td>\n",
       "      <td>...</td>\n",
       "      <td>0</td>\n",
       "      <td>0</td>\n",
       "      <td>0</td>\n",
       "      <td>0</td>\n",
       "      <td>0</td>\n",
       "      <td>0</td>\n",
       "      <td>0</td>\n",
       "      <td>1</td>\n",
       "      <td>1</td>\n",
       "      <td>0</td>\n",
       "    </tr>\n",
       "    <tr>\n",
       "      <th>1</th>\n",
       "      <td>1</td>\n",
       "      <td>0</td>\n",
       "      <td>1</td>\n",
       "      <td>0</td>\n",
       "      <td>0</td>\n",
       "      <td>0</td>\n",
       "      <td>2</td>\n",
       "      <td>17.68695</td>\n",
       "      <td>69.6087</td>\n",
       "      <td>16.652113</td>\n",
       "      <td>...</td>\n",
       "      <td>0</td>\n",
       "      <td>0</td>\n",
       "      <td>0</td>\n",
       "      <td>0</td>\n",
       "      <td>0</td>\n",
       "      <td>0</td>\n",
       "      <td>0</td>\n",
       "      <td>0</td>\n",
       "      <td>1</td>\n",
       "      <td>0</td>\n",
       "    </tr>\n",
       "    <tr>\n",
       "      <th>2</th>\n",
       "      <td>1</td>\n",
       "      <td>0</td>\n",
       "      <td>1</td>\n",
       "      <td>0</td>\n",
       "      <td>1</td>\n",
       "      <td>1</td>\n",
       "      <td>1</td>\n",
       "      <td>9.47025</td>\n",
       "      <td>43.7273</td>\n",
       "      <td>16.636703</td>\n",
       "      <td>...</td>\n",
       "      <td>0</td>\n",
       "      <td>0</td>\n",
       "      <td>1</td>\n",
       "      <td>0</td>\n",
       "      <td>0</td>\n",
       "      <td>0</td>\n",
       "      <td>0</td>\n",
       "      <td>0</td>\n",
       "      <td>0</td>\n",
       "      <td>0</td>\n",
       "    </tr>\n",
       "    <tr>\n",
       "      <th>3</th>\n",
       "      <td>1</td>\n",
       "      <td>0</td>\n",
       "      <td>1</td>\n",
       "      <td>0</td>\n",
       "      <td>2</td>\n",
       "      <td>1</td>\n",
       "      <td>1</td>\n",
       "      <td>10.60610</td>\n",
       "      <td>59.0435</td>\n",
       "      <td>10.739832</td>\n",
       "      <td>...</td>\n",
       "      <td>0</td>\n",
       "      <td>0</td>\n",
       "      <td>0</td>\n",
       "      <td>1</td>\n",
       "      <td>0</td>\n",
       "      <td>0</td>\n",
       "      <td>0</td>\n",
       "      <td>0</td>\n",
       "      <td>0</td>\n",
       "      <td>0</td>\n",
       "    </tr>\n",
       "    <tr>\n",
       "      <th>4</th>\n",
       "      <td>1</td>\n",
       "      <td>0</td>\n",
       "      <td>1</td>\n",
       "      <td>0</td>\n",
       "      <td>3</td>\n",
       "      <td>1</td>\n",
       "      <td>1</td>\n",
       "      <td>11.46350</td>\n",
       "      <td>43.6957</td>\n",
       "      <td>12.522300</td>\n",
       "      <td>...</td>\n",
       "      <td>0</td>\n",
       "      <td>0</td>\n",
       "      <td>0</td>\n",
       "      <td>0</td>\n",
       "      <td>1</td>\n",
       "      <td>0</td>\n",
       "      <td>0</td>\n",
       "      <td>0</td>\n",
       "      <td>0</td>\n",
       "      <td>0</td>\n",
       "    </tr>\n",
       "  </tbody>\n",
       "</table>\n",
       "<p>5 rows × 33 columns</p>\n",
       "</div>"
      ],
      "text/plain": [
       "   season  yr  mnth  holiday  weekday  workingday  weathersit     atemp  \\\n",
       "0       1   0     1        0        6           0           2  18.18125   \n",
       "1       1   0     1        0        0           0           2  17.68695   \n",
       "2       1   0     1        0        1           1           1   9.47025   \n",
       "3       1   0     1        0        2           1           1  10.60610   \n",
       "4       1   0     1        0        3           1           1  11.46350   \n",
       "\n",
       "       hum  windspeed  ...  mnth_11  mnth_12  weekday_1  weekday_2  weekday_3  \\\n",
       "0  80.5833  10.749882  ...        0        0          0          0          0   \n",
       "1  69.6087  16.652113  ...        0        0          0          0          0   \n",
       "2  43.7273  16.636703  ...        0        0          1          0          0   \n",
       "3  59.0435  10.739832  ...        0        0          0          1          0   \n",
       "4  43.6957  12.522300  ...        0        0          0          0          1   \n",
       "\n",
       "   weekday_4  weekday_5  weekday_6  weathersit_2  weathersit_3  \n",
       "0          0          0          1             1             0  \n",
       "1          0          0          0             1             0  \n",
       "2          0          0          0             0             0  \n",
       "3          0          0          0             0             0  \n",
       "4          0          0          0             0             0  \n",
       "\n",
       "[5 rows x 33 columns]"
      ]
     },
     "execution_count": 28,
     "metadata": {},
     "output_type": "execute_result"
    }
   ],
   "source": [
    "# Now let's see the head of our dataframe.\n",
    "\n",
    "data.head()"
   ]
  },
  {
   "cell_type": "markdown",
   "metadata": {},
   "source": [
    "## Feature Engineering"
   ]
  },
  {
   "cell_type": "code",
   "execution_count": 29,
   "metadata": {},
   "outputs": [],
   "source": [
    "#create a flag for only months 5 to 10 when ridership is seen to be higher than other months\n",
    "\n",
    "data.loc[((data['mnth'] >= 5) \n",
    "       &(data['mnth'] <= 10)), 'mnth5to10'] = 1\n",
    "\n",
    "data['mnth5to10'] = data['mnth5to10'].fillna(0)"
   ]
  },
  {
   "cell_type": "code",
   "execution_count": 30,
   "metadata": {},
   "outputs": [
    {
     "data": {
      "image/png": "[encoded data removed]",
      "text/plain": [
       "<Figure size 432x288 with 1 Axes>"
      ]
     },
     "metadata": {
      "needs_background": "light"
     },
     "output_type": "display_data"
    }
   ],
   "source": [
    "sns.boxplot(x = 'mnth5to10', y = 'cnt', data = data)\n",
    "plt.show()"
   ]
  },
  {
   "cell_type": "code",
   "execution_count": 31,
   "metadata": {},
   "outputs": [
    {
     "data": {
      "text/html": [
       "<div>\n",
       "<style scoped>\n",
       "    .dataframe tbody tr th:only-of-type {\n",
       "        vertical-align: middle;\n",
       "    }\n",
       "\n",
       "    .dataframe tbody tr th {\n",
       "        vertical-align: top;\n",
       "    }\n",
       "\n",
       "    .dataframe thead th {\n",
       "        text-align: right;\n",
       "    }\n",
       "</style>\n",
       "<table border=\"1\" class=\"dataframe\">\n",
       "  <thead>\n",
       "    <tr style=\"text-align: right;\">\n",
       "      <th></th>\n",
       "      <th>season</th>\n",
       "      <th>yr</th>\n",
       "      <th>mnth</th>\n",
       "      <th>holiday</th>\n",
       "      <th>weekday</th>\n",
       "      <th>workingday</th>\n",
       "      <th>weathersit</th>\n",
       "      <th>atemp</th>\n",
       "      <th>hum</th>\n",
       "      <th>windspeed</th>\n",
       "      <th>...</th>\n",
       "      <th>mnth_12</th>\n",
       "      <th>weekday_1</th>\n",
       "      <th>weekday_2</th>\n",
       "      <th>weekday_3</th>\n",
       "      <th>weekday_4</th>\n",
       "      <th>weekday_5</th>\n",
       "      <th>weekday_6</th>\n",
       "      <th>weathersit_2</th>\n",
       "      <th>weathersit_3</th>\n",
       "      <th>mnth5to10</th>\n",
       "    </tr>\n",
       "  </thead>\n",
       "  <tbody>\n",
       "    <tr>\n",
       "      <th>count</th>\n",
       "      <td>730.000000</td>\n",
       "      <td>730.000000</td>\n",
       "      <td>730.000000</td>\n",
       "      <td>730.000000</td>\n",
       "      <td>730.000000</td>\n",
       "      <td>730.000000</td>\n",
       "      <td>730.000000</td>\n",
       "      <td>730.000000</td>\n",
       "      <td>730.000000</td>\n",
       "      <td>730.000000</td>\n",
       "      <td>...</td>\n",
       "      <td>730.000000</td>\n",
       "      <td>730.000000</td>\n",
       "      <td>730.000000</td>\n",
       "      <td>730.000000</td>\n",
       "      <td>730.000000</td>\n",
       "      <td>730.000000</td>\n",
       "      <td>730.000000</td>\n",
       "      <td>730.000000</td>\n",
       "      <td>730.000000</td>\n",
       "      <td>730.000000</td>\n",
       "    </tr>\n",
       "    <tr>\n",
       "      <th>mean</th>\n",
       "      <td>2.498630</td>\n",
       "      <td>0.500000</td>\n",
       "      <td>6.526027</td>\n",
       "      <td>0.028767</td>\n",
       "      <td>2.997260</td>\n",
       "      <td>0.683562</td>\n",
       "      <td>1.394521</td>\n",
       "      <td>23.726322</td>\n",
       "      <td>62.765175</td>\n",
       "      <td>12.763620</td>\n",
       "      <td>...</td>\n",
       "      <td>0.084932</td>\n",
       "      <td>0.143836</td>\n",
       "      <td>0.142466</td>\n",
       "      <td>0.141096</td>\n",
       "      <td>0.142466</td>\n",
       "      <td>0.142466</td>\n",
       "      <td>0.143836</td>\n",
       "      <td>0.336986</td>\n",
       "      <td>0.028767</td>\n",
       "      <td>0.504110</td>\n",
       "    </tr>\n",
       "    <tr>\n",
       "      <th>std</th>\n",
       "      <td>1.110184</td>\n",
       "      <td>0.500343</td>\n",
       "      <td>3.450215</td>\n",
       "      <td>0.167266</td>\n",
       "      <td>2.006161</td>\n",
       "      <td>0.465405</td>\n",
       "      <td>0.544807</td>\n",
       "      <td>8.150308</td>\n",
       "      <td>14.237589</td>\n",
       "      <td>5.195841</td>\n",
       "      <td>...</td>\n",
       "      <td>0.278971</td>\n",
       "      <td>0.351164</td>\n",
       "      <td>0.349767</td>\n",
       "      <td>0.348359</td>\n",
       "      <td>0.349767</td>\n",
       "      <td>0.349767</td>\n",
       "      <td>0.351164</td>\n",
       "      <td>0.473004</td>\n",
       "      <td>0.167266</td>\n",
       "      <td>0.500326</td>\n",
       "    </tr>\n",
       "    <tr>\n",
       "      <th>min</th>\n",
       "      <td>1.000000</td>\n",
       "      <td>0.000000</td>\n",
       "      <td>1.000000</td>\n",
       "      <td>0.000000</td>\n",
       "      <td>0.000000</td>\n",
       "      <td>0.000000</td>\n",
       "      <td>1.000000</td>\n",
       "      <td>3.953480</td>\n",
       "      <td>0.000000</td>\n",
       "      <td>1.500244</td>\n",
       "      <td>...</td>\n",
       "      <td>0.000000</td>\n",
       "      <td>0.000000</td>\n",
       "      <td>0.000000</td>\n",
       "      <td>0.000000</td>\n",
       "      <td>0.000000</td>\n",
       "      <td>0.000000</td>\n",
       "      <td>0.000000</td>\n",
       "      <td>0.000000</td>\n",
       "      <td>0.000000</td>\n",
       "      <td>0.000000</td>\n",
       "    </tr>\n",
       "    <tr>\n",
       "      <th>25%</th>\n",
       "      <td>2.000000</td>\n",
       "      <td>0.000000</td>\n",
       "      <td>4.000000</td>\n",
       "      <td>0.000000</td>\n",
       "      <td>1.000000</td>\n",
       "      <td>0.000000</td>\n",
       "      <td>1.000000</td>\n",
       "      <td>16.889713</td>\n",
       "      <td>52.000000</td>\n",
       "      <td>9.041650</td>\n",
       "      <td>...</td>\n",
       "      <td>0.000000</td>\n",
       "      <td>0.000000</td>\n",
       "      <td>0.000000</td>\n",
       "      <td>0.000000</td>\n",
       "      <td>0.000000</td>\n",
       "      <td>0.000000</td>\n",
       "      <td>0.000000</td>\n",
       "      <td>0.000000</td>\n",
       "      <td>0.000000</td>\n",
       "      <td>0.000000</td>\n",
       "    </tr>\n",
       "    <tr>\n",
       "      <th>50%</th>\n",
       "      <td>3.000000</td>\n",
       "      <td>0.500000</td>\n",
       "      <td>7.000000</td>\n",
       "      <td>0.000000</td>\n",
       "      <td>3.000000</td>\n",
       "      <td>1.000000</td>\n",
       "      <td>1.000000</td>\n",
       "      <td>24.368225</td>\n",
       "      <td>62.625000</td>\n",
       "      <td>12.125325</td>\n",
       "      <td>...</td>\n",
       "      <td>0.000000</td>\n",
       "      <td>0.000000</td>\n",
       "      <td>0.000000</td>\n",
       "      <td>0.000000</td>\n",
       "      <td>0.000000</td>\n",
       "      <td>0.000000</td>\n",
       "      <td>0.000000</td>\n",
       "      <td>0.000000</td>\n",
       "      <td>0.000000</td>\n",
       "      <td>1.000000</td>\n",
       "    </tr>\n",
       "    <tr>\n",
       "      <th>75%</th>\n",
       "      <td>3.000000</td>\n",
       "      <td>1.000000</td>\n",
       "      <td>10.000000</td>\n",
       "      <td>0.000000</td>\n",
       "      <td>5.000000</td>\n",
       "      <td>1.000000</td>\n",
       "      <td>2.000000</td>\n",
       "      <td>30.445775</td>\n",
       "      <td>72.989575</td>\n",
       "      <td>15.625589</td>\n",
       "      <td>...</td>\n",
       "      <td>0.000000</td>\n",
       "      <td>0.000000</td>\n",
       "      <td>0.000000</td>\n",
       "      <td>0.000000</td>\n",
       "      <td>0.000000</td>\n",
       "      <td>0.000000</td>\n",
       "      <td>0.000000</td>\n",
       "      <td>1.000000</td>\n",
       "      <td>0.000000</td>\n",
       "      <td>1.000000</td>\n",
       "    </tr>\n",
       "    <tr>\n",
       "      <th>max</th>\n",
       "      <td>4.000000</td>\n",
       "      <td>1.000000</td>\n",
       "      <td>12.000000</td>\n",
       "      <td>1.000000</td>\n",
       "      <td>6.000000</td>\n",
       "      <td>1.000000</td>\n",
       "      <td>3.000000</td>\n",
       "      <td>42.044800</td>\n",
       "      <td>97.250000</td>\n",
       "      <td>34.000021</td>\n",
       "      <td>...</td>\n",
       "      <td>1.000000</td>\n",
       "      <td>1.000000</td>\n",
       "      <td>1.000000</td>\n",
       "      <td>1.000000</td>\n",
       "      <td>1.000000</td>\n",
       "      <td>1.000000</td>\n",
       "      <td>1.000000</td>\n",
       "      <td>1.000000</td>\n",
       "      <td>1.000000</td>\n",
       "      <td>1.000000</td>\n",
       "    </tr>\n",
       "  </tbody>\n",
       "</table>\n",
       "<p>8 rows × 34 columns</p>\n",
       "</div>"
      ],
      "text/plain": [
       "           season          yr        mnth     holiday     weekday  workingday  \\\n",
       "count  730.000000  730.000000  730.000000  730.000000  730.000000  730.000000   \n",
       "mean     2.498630    0.500000    6.526027    0.028767    2.997260    0.683562   \n",
       "std      1.110184    0.500343    3.450215    0.167266    2.006161    0.465405   \n",
       "min      1.000000    0.000000    1.000000    0.000000    0.000000    0.000000   \n",
       "25%      2.000000    0.000000    4.000000    0.000000    1.000000    0.000000   \n",
       "50%      3.000000    0.500000    7.000000    0.000000    3.000000    1.000000   \n",
       "75%      3.000000    1.000000   10.000000    0.000000    5.000000    1.000000   \n",
       "max      4.000000    1.000000   12.000000    1.000000    6.000000    1.000000   \n",
       "\n",
       "       weathersit       atemp         hum   windspeed  ...     mnth_12  \\\n",
       "count  730.000000  730.000000  730.000000  730.000000  ...  730.000000   \n",
       "mean     1.394521   23.726322   62.765175   12.763620  ...    0.084932   \n",
       "std      0.544807    8.150308   14.237589    5.195841  ...    0.278971   \n",
       "min      1.000000    3.953480    0.000000    1.500244  ...    0.000000   \n",
       "25%      1.000000   16.889713   52.000000    9.041650  ...    0.000000   \n",
       "50%      1.000000   24.368225   62.625000   12.125325  ...    0.000000   \n",
       "75%      2.000000   30.445775   72.989575   15.625589  ...    0.000000   \n",
       "max      3.000000   42.044800   97.250000   34.000021  ...    1.000000   \n",
       "\n",
       "        weekday_1   weekday_2   weekday_3   weekday_4   weekday_5   weekday_6  \\\n",
       "count  730.000000  730.000000  730.000000  730.000000  730.000000  730.000000   \n",
       "mean     0.143836    0.142466    0.141096    0.142466    0.142466    0.143836   \n",
       "std      0.351164    0.349767    0.348359    0.349767    0.349767    0.351164   \n",
       "min      0.000000    0.000000    0.000000    0.000000    0.000000    0.000000   \n",
       "25%      0.000000    0.000000    0.000000    0.000000    0.000000    0.000000   \n",
       "50%      0.000000    0.000000    0.000000    0.000000    0.000000    0.000000   \n",
       "75%      0.000000    0.000000    0.000000    0.000000    0.000000    0.000000   \n",
       "max      1.000000    1.000000    1.000000    1.000000    1.000000    1.000000   \n",
       "\n",
       "       weathersit_2  weathersit_3   mnth5to10  \n",
       "count    730.000000    730.000000  730.000000  \n",
       "mean       0.336986      0.028767    0.504110  \n",
       "std        0.473004      0.167266    0.500326  \n",
       "min        0.000000      0.000000    0.000000  \n",
       "25%        0.000000      0.000000    0.000000  \n",
       "50%        0.000000      0.000000    1.000000  \n",
       "75%        1.000000      0.000000    1.000000  \n",
       "max        1.000000      1.000000    1.000000  \n",
       "\n",
       "[8 rows x 34 columns]"
      ]
     },
     "execution_count": 31,
     "metadata": {},
     "output_type": "execute_result"
    }
   ],
   "source": [
    "data.describe()"
   ]
  },
  {
   "cell_type": "code",
   "execution_count": 32,
   "metadata": {},
   "outputs": [],
   "source": [
    "# Drop categorical variables for which we have created the dummies\n",
    "\n",
    "data.drop(['season', 'mnth', 'weathersit', 'weekday'], axis = 1, inplace = True)"
   ]
  },
  {
   "cell_type": "markdown",
   "metadata": {},
   "source": [
    "## Step 4: Splitting the Data into Training and Testing Sets"
   ]
  },
  {
   "cell_type": "code",
   "execution_count": 33,
   "metadata": {},
   "outputs": [],
   "source": [
    "from sklearn.model_selection import train_test_split\n",
    "\n",
    "# set seed\n",
    "np.random.seed(123)\n",
    "df_train, df_test = train_test_split(data, train_size = 0.7, test_size = 0.3, random_state = 123)"
   ]
  },
  {
   "cell_type": "markdown",
   "metadata": {},
   "source": [
    "### Rescaling the Features "
   ]
  },
  {
   "cell_type": "code",
   "execution_count": 34,
   "metadata": {},
   "outputs": [],
   "source": [
    "from sklearn.preprocessing import MinMaxScaler"
   ]
  },
  {
   "cell_type": "code",
   "execution_count": 35,
   "metadata": {},
   "outputs": [],
   "source": [
    "scaler = MinMaxScaler()"
   ]
  },
  {
   "cell_type": "code",
   "execution_count": 36,
   "metadata": {},
   "outputs": [],
   "source": [
    "# Apply scaler() to all the numeric columns \n",
    "numeric = ['atemp', 'hum', 'windspeed', 'cnt']\n",
    "\n",
    "df_train[numeric] = scaler.fit_transform(df_train[numeric])"
   ]
  },
  {
   "cell_type": "code",
   "execution_count": 37,
   "metadata": {},
   "outputs": [
    {
     "data": {
      "text/html": [
       "<div>\n",
       "<style scoped>\n",
       "    .dataframe tbody tr th:only-of-type {\n",
       "        vertical-align: middle;\n",
       "    }\n",
       "\n",
       "    .dataframe tbody tr th {\n",
       "        vertical-align: top;\n",
       "    }\n",
       "\n",
       "    .dataframe thead th {\n",
       "        text-align: right;\n",
       "    }\n",
       "</style>\n",
       "<table border=\"1\" class=\"dataframe\">\n",
       "  <thead>\n",
       "    <tr style=\"text-align: right;\">\n",
       "      <th></th>\n",
       "      <th>yr</th>\n",
       "      <th>holiday</th>\n",
       "      <th>workingday</th>\n",
       "      <th>atemp</th>\n",
       "      <th>hum</th>\n",
       "      <th>windspeed</th>\n",
       "      <th>cnt</th>\n",
       "      <th>season_2</th>\n",
       "      <th>season_3</th>\n",
       "      <th>season_4</th>\n",
       "      <th>...</th>\n",
       "      <th>mnth_12</th>\n",
       "      <th>weekday_1</th>\n",
       "      <th>weekday_2</th>\n",
       "      <th>weekday_3</th>\n",
       "      <th>weekday_4</th>\n",
       "      <th>weekday_5</th>\n",
       "      <th>weekday_6</th>\n",
       "      <th>weathersit_2</th>\n",
       "      <th>weathersit_3</th>\n",
       "      <th>mnth5to10</th>\n",
       "    </tr>\n",
       "  </thead>\n",
       "  <tbody>\n",
       "    <tr>\n",
       "      <th>689</th>\n",
       "      <td>1</td>\n",
       "      <td>0</td>\n",
       "      <td>1</td>\n",
       "      <td>0.382473</td>\n",
       "      <td>0.631105</td>\n",
       "      <td>0.131013</td>\n",
       "      <td>0.600492</td>\n",
       "      <td>0</td>\n",
       "      <td>0</td>\n",
       "      <td>1</td>\n",
       "      <td>...</td>\n",
       "      <td>0</td>\n",
       "      <td>0</td>\n",
       "      <td>0</td>\n",
       "      <td>1</td>\n",
       "      <td>0</td>\n",
       "      <td>0</td>\n",
       "      <td>0</td>\n",
       "      <td>0</td>\n",
       "      <td>0</td>\n",
       "      <td>0.0</td>\n",
       "    </tr>\n",
       "    <tr>\n",
       "      <th>406</th>\n",
       "      <td>1</td>\n",
       "      <td>0</td>\n",
       "      <td>0</td>\n",
       "      <td>0.176364</td>\n",
       "      <td>0.751928</td>\n",
       "      <td>0.532059</td>\n",
       "      <td>0.251611</td>\n",
       "      <td>0</td>\n",
       "      <td>0</td>\n",
       "      <td>0</td>\n",
       "      <td>...</td>\n",
       "      <td>0</td>\n",
       "      <td>0</td>\n",
       "      <td>0</td>\n",
       "      <td>0</td>\n",
       "      <td>0</td>\n",
       "      <td>0</td>\n",
       "      <td>1</td>\n",
       "      <td>0</td>\n",
       "      <td>1</td>\n",
       "      <td>0.0</td>\n",
       "    </tr>\n",
       "    <tr>\n",
       "      <th>299</th>\n",
       "      <td>0</td>\n",
       "      <td>0</td>\n",
       "      <td>1</td>\n",
       "      <td>0.505788</td>\n",
       "      <td>0.835904</td>\n",
       "      <td>0.334206</td>\n",
       "      <td>0.309036</td>\n",
       "      <td>0</td>\n",
       "      <td>0</td>\n",
       "      <td>1</td>\n",
       "      <td>...</td>\n",
       "      <td>0</td>\n",
       "      <td>0</td>\n",
       "      <td>0</td>\n",
       "      <td>0</td>\n",
       "      <td>1</td>\n",
       "      <td>0</td>\n",
       "      <td>0</td>\n",
       "      <td>1</td>\n",
       "      <td>0</td>\n",
       "      <td>1.0</td>\n",
       "    </tr>\n",
       "    <tr>\n",
       "      <th>142</th>\n",
       "      <td>0</td>\n",
       "      <td>0</td>\n",
       "      <td>1</td>\n",
       "      <td>0.684097</td>\n",
       "      <td>0.832905</td>\n",
       "      <td>0.411769</td>\n",
       "      <td>0.498301</td>\n",
       "      <td>1</td>\n",
       "      <td>0</td>\n",
       "      <td>0</td>\n",
       "      <td>...</td>\n",
       "      <td>0</td>\n",
       "      <td>1</td>\n",
       "      <td>0</td>\n",
       "      <td>0</td>\n",
       "      <td>0</td>\n",
       "      <td>0</td>\n",
       "      <td>0</td>\n",
       "      <td>1</td>\n",
       "      <td>0</td>\n",
       "      <td>1.0</td>\n",
       "    </tr>\n",
       "    <tr>\n",
       "      <th>275</th>\n",
       "      <td>0</td>\n",
       "      <td>0</td>\n",
       "      <td>1</td>\n",
       "      <td>0.418809</td>\n",
       "      <td>0.782348</td>\n",
       "      <td>0.088231</td>\n",
       "      <td>0.415797</td>\n",
       "      <td>0</td>\n",
       "      <td>0</td>\n",
       "      <td>1</td>\n",
       "      <td>...</td>\n",
       "      <td>0</td>\n",
       "      <td>1</td>\n",
       "      <td>0</td>\n",
       "      <td>0</td>\n",
       "      <td>0</td>\n",
       "      <td>0</td>\n",
       "      <td>0</td>\n",
       "      <td>1</td>\n",
       "      <td>0</td>\n",
       "      <td>1.0</td>\n",
       "    </tr>\n",
       "  </tbody>\n",
       "</table>\n",
       "<p>5 rows × 30 columns</p>\n",
       "</div>"
      ],
      "text/plain": [
       "     yr  holiday  workingday     atemp       hum  windspeed       cnt  \\\n",
       "689   1        0           1  0.382473  0.631105   0.131013  0.600492   \n",
       "406   1        0           0  0.176364  0.751928   0.532059  0.251611   \n",
       "299   0        0           1  0.505788  0.835904   0.334206  0.309036   \n",
       "142   0        0           1  0.684097  0.832905   0.411769  0.498301   \n",
       "275   0        0           1  0.418809  0.782348   0.088231  0.415797   \n",
       "\n",
       "     season_2  season_3  season_4  ...  mnth_12  weekday_1  weekday_2  \\\n",
       "689         0         0         1  ...        0          0          0   \n",
       "406         0         0         0  ...        0          0          0   \n",
       "299         0         0         1  ...        0          0          0   \n",
       "142         1         0         0  ...        0          1          0   \n",
       "275         0         0         1  ...        0          1          0   \n",
       "\n",
       "     weekday_3  weekday_4  weekday_5  weekday_6  weathersit_2  weathersit_3  \\\n",
       "689          1          0          0          0             0             0   \n",
       "406          0          0          0          1             0             1   \n",
       "299          0          1          0          0             1             0   \n",
       "142          0          0          0          0             1             0   \n",
       "275          0          0          0          0             1             0   \n",
       "\n",
       "     mnth5to10  \n",
       "689        0.0  \n",
       "406        0.0  \n",
       "299        1.0  \n",
       "142        1.0  \n",
       "275        1.0  \n",
       "\n",
       "[5 rows x 30 columns]"
      ]
     },
     "execution_count": 37,
     "metadata": {},
     "output_type": "execute_result"
    }
   ],
   "source": [
    "df_train.head()"
   ]
  },
  {
   "cell_type": "code",
   "execution_count": 38,
   "metadata": {},
   "outputs": [
    {
     "data": {
      "text/html": [
       "<div>\n",
       "<style scoped>\n",
       "    .dataframe tbody tr th:only-of-type {\n",
       "        vertical-align: middle;\n",
       "    }\n",
       "\n",
       "    .dataframe tbody tr th {\n",
       "        vertical-align: top;\n",
       "    }\n",
       "\n",
       "    .dataframe thead th {\n",
       "        text-align: right;\n",
       "    }\n",
       "</style>\n",
       "<table border=\"1\" class=\"dataframe\">\n",
       "  <thead>\n",
       "    <tr style=\"text-align: right;\">\n",
       "      <th></th>\n",
       "      <th>yr</th>\n",
       "      <th>holiday</th>\n",
       "      <th>workingday</th>\n",
       "      <th>atemp</th>\n",
       "      <th>hum</th>\n",
       "      <th>windspeed</th>\n",
       "      <th>cnt</th>\n",
       "      <th>season_2</th>\n",
       "      <th>season_3</th>\n",
       "      <th>season_4</th>\n",
       "      <th>...</th>\n",
       "      <th>mnth_12</th>\n",
       "      <th>weekday_1</th>\n",
       "      <th>weekday_2</th>\n",
       "      <th>weekday_3</th>\n",
       "      <th>weekday_4</th>\n",
       "      <th>weekday_5</th>\n",
       "      <th>weekday_6</th>\n",
       "      <th>weathersit_2</th>\n",
       "      <th>weathersit_3</th>\n",
       "      <th>mnth5to10</th>\n",
       "    </tr>\n",
       "  </thead>\n",
       "  <tbody>\n",
       "    <tr>\n",
       "      <th>count</th>\n",
       "      <td>510.000000</td>\n",
       "      <td>510.000000</td>\n",
       "      <td>510.000000</td>\n",
       "      <td>510.000000</td>\n",
       "      <td>510.000000</td>\n",
       "      <td>510.000000</td>\n",
       "      <td>510.000000</td>\n",
       "      <td>510.000000</td>\n",
       "      <td>510.000000</td>\n",
       "      <td>510.000000</td>\n",
       "      <td>...</td>\n",
       "      <td>510.000000</td>\n",
       "      <td>510.000000</td>\n",
       "      <td>510.000000</td>\n",
       "      <td>510.000000</td>\n",
       "      <td>510.000000</td>\n",
       "      <td>510.000000</td>\n",
       "      <td>510.000000</td>\n",
       "      <td>510.000000</td>\n",
       "      <td>510.000000</td>\n",
       "      <td>510.000000</td>\n",
       "    </tr>\n",
       "    <tr>\n",
       "      <th>mean</th>\n",
       "      <td>0.523529</td>\n",
       "      <td>0.037255</td>\n",
       "      <td>0.686275</td>\n",
       "      <td>0.514277</td>\n",
       "      <td>0.633319</td>\n",
       "      <td>0.322474</td>\n",
       "      <td>0.524341</td>\n",
       "      <td>0.254902</td>\n",
       "      <td>0.237255</td>\n",
       "      <td>0.235294</td>\n",
       "      <td>...</td>\n",
       "      <td>0.094118</td>\n",
       "      <td>0.149020</td>\n",
       "      <td>0.147059</td>\n",
       "      <td>0.147059</td>\n",
       "      <td>0.147059</td>\n",
       "      <td>0.133333</td>\n",
       "      <td>0.147059</td>\n",
       "      <td>0.311765</td>\n",
       "      <td>0.033333</td>\n",
       "      <td>0.476471</td>\n",
       "    </tr>\n",
       "    <tr>\n",
       "      <th>std</th>\n",
       "      <td>0.499936</td>\n",
       "      <td>0.189572</td>\n",
       "      <td>0.464462</td>\n",
       "      <td>0.218066</td>\n",
       "      <td>0.146670</td>\n",
       "      <td>0.165343</td>\n",
       "      <td>0.234835</td>\n",
       "      <td>0.436234</td>\n",
       "      <td>0.425818</td>\n",
       "      <td>0.424599</td>\n",
       "      <td>...</td>\n",
       "      <td>0.292279</td>\n",
       "      <td>0.356457</td>\n",
       "      <td>0.354512</td>\n",
       "      <td>0.354512</td>\n",
       "      <td>0.354512</td>\n",
       "      <td>0.340268</td>\n",
       "      <td>0.354512</td>\n",
       "      <td>0.463669</td>\n",
       "      <td>0.179682</td>\n",
       "      <td>0.499936</td>\n",
       "    </tr>\n",
       "    <tr>\n",
       "      <th>min</th>\n",
       "      <td>0.000000</td>\n",
       "      <td>0.000000</td>\n",
       "      <td>0.000000</td>\n",
       "      <td>0.000000</td>\n",
       "      <td>0.000000</td>\n",
       "      <td>0.000000</td>\n",
       "      <td>0.000000</td>\n",
       "      <td>0.000000</td>\n",
       "      <td>0.000000</td>\n",
       "      <td>0.000000</td>\n",
       "      <td>...</td>\n",
       "      <td>0.000000</td>\n",
       "      <td>0.000000</td>\n",
       "      <td>0.000000</td>\n",
       "      <td>0.000000</td>\n",
       "      <td>0.000000</td>\n",
       "      <td>0.000000</td>\n",
       "      <td>0.000000</td>\n",
       "      <td>0.000000</td>\n",
       "      <td>0.000000</td>\n",
       "      <td>0.000000</td>\n",
       "    </tr>\n",
       "    <tr>\n",
       "      <th>25%</th>\n",
       "      <td>0.000000</td>\n",
       "      <td>0.000000</td>\n",
       "      <td>0.000000</td>\n",
       "      <td>0.327562</td>\n",
       "      <td>0.520835</td>\n",
       "      <td>0.203184</td>\n",
       "      <td>0.357055</td>\n",
       "      <td>0.000000</td>\n",
       "      <td>0.000000</td>\n",
       "      <td>0.000000</td>\n",
       "      <td>...</td>\n",
       "      <td>0.000000</td>\n",
       "      <td>0.000000</td>\n",
       "      <td>0.000000</td>\n",
       "      <td>0.000000</td>\n",
       "      <td>0.000000</td>\n",
       "      <td>0.000000</td>\n",
       "      <td>0.000000</td>\n",
       "      <td>0.000000</td>\n",
       "      <td>0.000000</td>\n",
       "      <td>0.000000</td>\n",
       "    </tr>\n",
       "    <tr>\n",
       "      <th>50%</th>\n",
       "      <td>1.000000</td>\n",
       "      <td>0.000000</td>\n",
       "      <td>1.000000</td>\n",
       "      <td>0.525660</td>\n",
       "      <td>0.631320</td>\n",
       "      <td>0.302796</td>\n",
       "      <td>0.534279</td>\n",
       "      <td>0.000000</td>\n",
       "      <td>0.000000</td>\n",
       "      <td>0.000000</td>\n",
       "      <td>...</td>\n",
       "      <td>0.000000</td>\n",
       "      <td>0.000000</td>\n",
       "      <td>0.000000</td>\n",
       "      <td>0.000000</td>\n",
       "      <td>0.000000</td>\n",
       "      <td>0.000000</td>\n",
       "      <td>0.000000</td>\n",
       "      <td>0.000000</td>\n",
       "      <td>0.000000</td>\n",
       "      <td>0.000000</td>\n",
       "    </tr>\n",
       "    <tr>\n",
       "      <th>75%</th>\n",
       "      <td>1.000000</td>\n",
       "      <td>0.000000</td>\n",
       "      <td>1.000000</td>\n",
       "      <td>0.691717</td>\n",
       "      <td>0.736462</td>\n",
       "      <td>0.411435</td>\n",
       "      <td>0.710887</td>\n",
       "      <td>1.000000</td>\n",
       "      <td>0.000000</td>\n",
       "      <td>0.000000</td>\n",
       "      <td>...</td>\n",
       "      <td>0.000000</td>\n",
       "      <td>0.000000</td>\n",
       "      <td>0.000000</td>\n",
       "      <td>0.000000</td>\n",
       "      <td>0.000000</td>\n",
       "      <td>0.000000</td>\n",
       "      <td>0.000000</td>\n",
       "      <td>1.000000</td>\n",
       "      <td>0.000000</td>\n",
       "      <td>1.000000</td>\n",
       "    </tr>\n",
       "    <tr>\n",
       "      <th>max</th>\n",
       "      <td>1.000000</td>\n",
       "      <td>1.000000</td>\n",
       "      <td>1.000000</td>\n",
       "      <td>1.000000</td>\n",
       "      <td>1.000000</td>\n",
       "      <td>1.000000</td>\n",
       "      <td>1.000000</td>\n",
       "      <td>1.000000</td>\n",
       "      <td>1.000000</td>\n",
       "      <td>1.000000</td>\n",
       "      <td>...</td>\n",
       "      <td>1.000000</td>\n",
       "      <td>1.000000</td>\n",
       "      <td>1.000000</td>\n",
       "      <td>1.000000</td>\n",
       "      <td>1.000000</td>\n",
       "      <td>1.000000</td>\n",
       "      <td>1.000000</td>\n",
       "      <td>1.000000</td>\n",
       "      <td>1.000000</td>\n",
       "      <td>1.000000</td>\n",
       "    </tr>\n",
       "  </tbody>\n",
       "</table>\n",
       "<p>8 rows × 30 columns</p>\n",
       "</div>"
      ],
      "text/plain": [
       "               yr     holiday  workingday       atemp         hum   windspeed  \\\n",
       "count  510.000000  510.000000  510.000000  510.000000  510.000000  510.000000   \n",
       "mean     0.523529    0.037255    0.686275    0.514277    0.633319    0.322474   \n",
       "std      0.499936    0.189572    0.464462    0.218066    0.146670    0.165343   \n",
       "min      0.000000    0.000000    0.000000    0.000000    0.000000    0.000000   \n",
       "25%      0.000000    0.000000    0.000000    0.327562    0.520835    0.203184   \n",
       "50%      1.000000    0.000000    1.000000    0.525660    0.631320    0.302796   \n",
       "75%      1.000000    0.000000    1.000000    0.691717    0.736462    0.411435   \n",
       "max      1.000000    1.000000    1.000000    1.000000    1.000000    1.000000   \n",
       "\n",
       "              cnt    season_2    season_3    season_4  ...     mnth_12  \\\n",
       "count  510.000000  510.000000  510.000000  510.000000  ...  510.000000   \n",
       "mean     0.524341    0.254902    0.237255    0.235294  ...    0.094118   \n",
       "std      0.234835    0.436234    0.425818    0.424599  ...    0.292279   \n",
       "min      0.000000    0.000000    0.000000    0.000000  ...    0.000000   \n",
       "25%      0.357055    0.000000    0.000000    0.000000  ...    0.000000   \n",
       "50%      0.534279    0.000000    0.000000    0.000000  ...    0.000000   \n",
       "75%      0.710887    1.000000    0.000000    0.000000  ...    0.000000   \n",
       "max      1.000000    1.000000    1.000000    1.000000  ...    1.000000   \n",
       "\n",
       "        weekday_1   weekday_2   weekday_3   weekday_4   weekday_5   weekday_6  \\\n",
       "count  510.000000  510.000000  510.000000  510.000000  510.000000  510.000000   \n",
       "mean     0.149020    0.147059    0.147059    0.147059    0.133333    0.147059   \n",
       "std      0.356457    0.354512    0.354512    0.354512    0.340268    0.354512   \n",
       "min      0.000000    0.000000    0.000000    0.000000    0.000000    0.000000   \n",
       "25%      0.000000    0.000000    0.000000    0.000000    0.000000    0.000000   \n",
       "50%      0.000000    0.000000    0.000000    0.000000    0.000000    0.000000   \n",
       "75%      0.000000    0.000000    0.000000    0.000000    0.000000    0.000000   \n",
       "max      1.000000    1.000000    1.000000    1.000000    1.000000    1.000000   \n",
       "\n",
       "       weathersit_2  weathersit_3   mnth5to10  \n",
       "count    510.000000    510.000000  510.000000  \n",
       "mean       0.311765      0.033333    0.476471  \n",
       "std        0.463669      0.179682    0.499936  \n",
       "min        0.000000      0.000000    0.000000  \n",
       "25%        0.000000      0.000000    0.000000  \n",
       "50%        0.000000      0.000000    0.000000  \n",
       "75%        1.000000      0.000000    1.000000  \n",
       "max        1.000000      1.000000    1.000000  \n",
       "\n",
       "[8 rows x 30 columns]"
      ]
     },
     "execution_count": 38,
     "metadata": {},
     "output_type": "execute_result"
    }
   ],
   "source": [
    "df_train.describe()"
   ]
  },
  {
   "cell_type": "markdown",
   "metadata": {},
   "source": [
    "### Dividing into X and Y sets for the model building"
   ]
  },
  {
   "cell_type": "code",
   "execution_count": 39,
   "metadata": {},
   "outputs": [],
   "source": [
    "y_train = df_train.pop('cnt')\n",
    "X_train = df_train"
   ]
  },
  {
   "cell_type": "markdown",
   "metadata": {},
   "source": [
    "## Step 5: Building a linear model\n",
    "\n",
    "### RFE\n",
    "start with RFE model"
   ]
  },
  {
   "cell_type": "code",
   "execution_count": 40,
   "metadata": {},
   "outputs": [],
   "source": [
    "# Importing RFE and LinearRegression\n",
    "from sklearn.feature_selection import RFE\n",
    "from sklearn.linear_model import LinearRegression"
   ]
  },
  {
   "cell_type": "code",
   "execution_count": 41,
   "metadata": {},
   "outputs": [],
   "source": [
    "# Running RFE with the output number of the variable equal to 10\n",
    "lm = LinearRegression()\n",
    "lm.fit(X_train, y_train)\n",
    "\n",
    "rfe = RFE(lm, n_features_to_select=10) \n",
    "rfe = rfe.fit(X_train, y_train)"
   ]
  },
  {
   "cell_type": "code",
   "execution_count": 42,
   "metadata": {},
   "outputs": [
    {
     "data": {
      "text/plain": [
       "[('yr', False, 8),\n",
       " ('holiday', True, 1),\n",
       " ('workingday', False, 4),\n",
       " ('atemp', False, 6),\n",
       " ('hum', False, 7),\n",
       " ('windspeed', False, 9),\n",
       " ('season_2', False, 12),\n",
       " ('season_3', False, 13),\n",
       " ('season_4', False, 11),\n",
       " ('mnth_2', False, 20),\n",
       " ('mnth_3', False, 18),\n",
       " ('mnth_4', False, 19),\n",
       " ('mnth_5', True, 1),\n",
       " ('mnth_6', True, 1),\n",
       " ('mnth_7', True, 1),\n",
       " ('mnth_8', True, 1),\n",
       " ('mnth_9', True, 1),\n",
       " ('mnth_10', True, 1),\n",
       " ('mnth_11', False, 15),\n",
       " ('mnth_12', False, 16),\n",
       " ('weekday_1', False, 5),\n",
       " ('weekday_2', False, 2),\n",
       " ('weekday_3', False, 3),\n",
       " ('weekday_4', True, 1),\n",
       " ('weekday_5', True, 1),\n",
       " ('weekday_6', False, 14),\n",
       " ('weathersit_2', False, 17),\n",
       " ('weathersit_3', False, 10),\n",
       " ('mnth5to10', True, 1)]"
      ]
     },
     "execution_count": 42,
     "metadata": {},
     "output_type": "execute_result"
    }
   ],
   "source": [
    "list(zip(X_train.columns,rfe.support_,rfe.ranking_))"
   ]
  },
  {
   "cell_type": "code",
   "execution_count": 43,
   "metadata": {},
   "outputs": [
    {
     "data": {
      "text/plain": [
       "Index(['holiday', 'mnth_5', 'mnth_6', 'mnth_7', 'mnth_8', 'mnth_9', 'mnth_10',\n",
       "       'weekday_4', 'weekday_5', 'mnth5to10'],\n",
       "      dtype='object')"
      ]
     },
     "execution_count": 43,
     "metadata": {},
     "output_type": "execute_result"
    }
   ],
   "source": [
    "#only keep selected variables by RFE\n",
    "col = X_train.columns[rfe.support_]\n",
    "col"
   ]
  },
  {
   "cell_type": "markdown",
   "metadata": {},
   "source": [
    "### Building model using statsmodel, for the detailed statistics"
   ]
  },
  {
   "cell_type": "markdown",
   "metadata": {},
   "source": [
    "### round 1\n",
    "\n",
    "RFE features selected = 10"
   ]
  },
  {
   "cell_type": "code",
   "execution_count": 44,
   "metadata": {},
   "outputs": [
    {
     "name": "stdout",
     "output_type": "stream",
     "text": [
      "                            OLS Regression Results                            \n",
      "==============================================================================\n",
      "Dep. Variable:                    cnt   R-squared:                       0.339\n",
      "Model:                            OLS   Adj. R-squared:                  0.327\n",
      "Method:                 Least Squares   F-statistic:                     28.48\n",
      "Date:                Tue, 13 Sep 2022   Prob (F-statistic):           5.92e-40\n",
      "Time:                        20:59:30   Log-Likelihood:                 121.30\n",
      "No. Observations:                 510   AIC:                            -222.6\n",
      "Df Residuals:                     500   BIC:                            -180.3\n",
      "Df Model:                           9                                         \n",
      "Covariance Type:            nonrobust                                         \n",
      "==============================================================================\n",
      "                 coef    std err          t      P>|t|      [0.025      0.975]\n",
      "------------------------------------------------------------------------------\n",
      "const          0.3890      0.013     29.537      0.000       0.363       0.415\n",
      "holiday       -0.0504      0.045     -1.113      0.266      -0.139       0.039\n",
      "mnth_5         0.0170      0.026      0.651      0.515      -0.034       0.068\n",
      "mnth_6         0.0707      0.029      2.445      0.015       0.014       0.128\n",
      "mnth_7         0.0454      0.028      1.621      0.106      -0.010       0.100\n",
      "mnth_8         0.0415      0.028      1.500      0.134      -0.013       0.096\n",
      "mnth_9         0.0749      0.029      2.554      0.011       0.017       0.133\n",
      "mnth_10       -0.0208      0.027     -0.759      0.448      -0.075       0.033\n",
      "weekday_4      0.0511      0.025      2.081      0.038       0.003       0.099\n",
      "weekday_5      0.0261      0.026      1.019      0.309      -0.024       0.077\n",
      "mnth5to10      0.2288      0.015     15.567      0.000       0.200       0.258\n",
      "==============================================================================\n",
      "Omnibus:                        9.716   Durbin-Watson:                   1.910\n",
      "Prob(Omnibus):                  0.008   Jarque-Bera (JB):                6.247\n",
      "Skew:                           0.109   Prob(JB):                       0.0440\n",
      "Kurtosis:                       2.504   Cond. No.                     4.42e+15\n",
      "==============================================================================\n",
      "\n",
      "Notes:\n",
      "[1] Standard Errors assume that the covariance matrix of the errors is correctly specified.\n",
      "[2] The smallest eigenvalue is 3.59e-29. This might indicate that there are\n",
      "strong multicollinearity problems or that the design matrix is singular.\n"
     ]
    },
    {
     "data": {
      "text/html": [
       "<div>\n",
       "<style scoped>\n",
       "    .dataframe tbody tr th:only-of-type {\n",
       "        vertical-align: middle;\n",
       "    }\n",
       "\n",
       "    .dataframe tbody tr th {\n",
       "        vertical-align: top;\n",
       "    }\n",
       "\n",
       "    .dataframe thead th {\n",
       "        text-align: right;\n",
       "    }\n",
       "</style>\n",
       "<table border=\"1\" class=\"dataframe\">\n",
       "  <thead>\n",
       "    <tr style=\"text-align: right;\">\n",
       "      <th></th>\n",
       "      <th>Features</th>\n",
       "      <th>VIF</th>\n",
       "    </tr>\n",
       "  </thead>\n",
       "  <tbody>\n",
       "    <tr>\n",
       "      <th>2</th>\n",
       "      <td>mnth_5</td>\n",
       "      <td>inf</td>\n",
       "    </tr>\n",
       "    <tr>\n",
       "      <th>3</th>\n",
       "      <td>mnth_6</td>\n",
       "      <td>inf</td>\n",
       "    </tr>\n",
       "    <tr>\n",
       "      <th>4</th>\n",
       "      <td>mnth_7</td>\n",
       "      <td>inf</td>\n",
       "    </tr>\n",
       "    <tr>\n",
       "      <th>5</th>\n",
       "      <td>mnth_8</td>\n",
       "      <td>inf</td>\n",
       "    </tr>\n",
       "    <tr>\n",
       "      <th>6</th>\n",
       "      <td>mnth_9</td>\n",
       "      <td>inf</td>\n",
       "    </tr>\n",
       "    <tr>\n",
       "      <th>7</th>\n",
       "      <td>mnth_10</td>\n",
       "      <td>inf</td>\n",
       "    </tr>\n",
       "    <tr>\n",
       "      <th>10</th>\n",
       "      <td>mnth5to10</td>\n",
       "      <td>inf</td>\n",
       "    </tr>\n",
       "    <tr>\n",
       "      <th>0</th>\n",
       "      <td>const</td>\n",
       "      <td>2.38</td>\n",
       "    </tr>\n",
       "    <tr>\n",
       "      <th>8</th>\n",
       "      <td>weekday_4</td>\n",
       "      <td>1.04</td>\n",
       "    </tr>\n",
       "    <tr>\n",
       "      <th>9</th>\n",
       "      <td>weekday_5</td>\n",
       "      <td>1.04</td>\n",
       "    </tr>\n",
       "    <tr>\n",
       "      <th>1</th>\n",
       "      <td>holiday</td>\n",
       "      <td>1.01</td>\n",
       "    </tr>\n",
       "  </tbody>\n",
       "</table>\n",
       "</div>"
      ],
      "text/plain": [
       "     Features   VIF\n",
       "2      mnth_5   inf\n",
       "3      mnth_6   inf\n",
       "4      mnth_7   inf\n",
       "5      mnth_8   inf\n",
       "6      mnth_9   inf\n",
       "7     mnth_10   inf\n",
       "10  mnth5to10   inf\n",
       "0       const  2.38\n",
       "8   weekday_4  1.04\n",
       "9   weekday_5  1.04\n",
       "1     holiday  1.01"
      ]
     },
     "execution_count": 44,
     "metadata": {},
     "output_type": "execute_result"
    }
   ],
   "source": [
    "# Creating X_test dataframe with RFE selected variables\n",
    "X_train_rfe = X_train[col]\n",
    "# Adding a constant variable \n",
    "import statsmodels.api as sm  \n",
    "X_train_rfe = sm.add_constant(X_train_rfe)\n",
    "lm = sm.OLS(y_train,X_train_rfe).fit()   # Running the linear model\n",
    "#summary of the linear model\n",
    "print(lm.summary())\n",
    "# Calculate the VIFs for the new model\n",
    "from statsmodels.stats.outliers_influence import variance_inflation_factor\n",
    "\n",
    "vif = pd.DataFrame()\n",
    "X = X_train_rfe\n",
    "vif['Features'] = X.columns\n",
    "vif['VIF'] = [variance_inflation_factor(X.values, i) for i in range(X.shape[1])]\n",
    "vif['VIF'] = round(vif['VIF'], 2)\n",
    "vif = vif.sort_values(by = \"VIF\", ascending = False)\n",
    "vif"
   ]
  },
  {
   "cell_type": "markdown",
   "metadata": {},
   "source": [
    "VIF is inf as mnth5to10 maps to the mnth_5 to mnth_10 vars so cannot use this, will try RFE with 5 variables "
   ]
  },
  {
   "cell_type": "markdown",
   "metadata": {},
   "source": [
    "### round 2\n",
    "\n",
    "RFE features selected = 5"
   ]
  },
  {
   "cell_type": "code",
   "execution_count": 45,
   "metadata": {},
   "outputs": [
    {
     "data": {
      "text/plain": [
       "Index(['mnth_6', 'mnth_7', 'mnth_9', 'mnth_10', 'mnth5to10'], dtype='object')"
      ]
     },
     "execution_count": 45,
     "metadata": {},
     "output_type": "execute_result"
    }
   ],
   "source": [
    "# Running RFE with the output number of the variable equal to 5\n",
    "lm = LinearRegression()\n",
    "lm.fit(X_train, y_train)\n",
    "rfe = RFE(lm, n_features_to_select=5) \n",
    "rfe = rfe.fit(X_train, y_train)\n",
    "#only keep selected variables by RFE\n",
    "col = X_train.columns[rfe.support_]\n",
    "col"
   ]
  },
  {
   "cell_type": "code",
   "execution_count": 46,
   "metadata": {},
   "outputs": [
    {
     "name": "stdout",
     "output_type": "stream",
     "text": [
      "                            OLS Regression Results                            \n",
      "==============================================================================\n",
      "Dep. Variable:                    cnt   R-squared:                       0.330\n",
      "Model:                            OLS   Adj. R-squared:                  0.323\n",
      "Method:                 Least Squares   F-statistic:                     49.63\n",
      "Date:                Tue, 13 Sep 2022   Prob (F-statistic):           8.94e-42\n",
      "Time:                        20:59:30   Log-Likelihood:                 117.85\n",
      "No. Observations:                 510   AIC:                            -223.7\n",
      "Df Residuals:                     504   BIC:                            -198.3\n",
      "Df Model:                           5                                         \n",
      "Covariance Type:            nonrobust                                         \n",
      "==============================================================================\n",
      "                 coef    std err          t      P>|t|      [0.025      0.975]\n",
      "------------------------------------------------------------------------------\n",
      "const          0.3977      0.012     33.643      0.000       0.375       0.421\n",
      "mnth_6         0.0477      0.038      1.260      0.208      -0.027       0.122\n",
      "mnth_7         0.0156      0.037      0.423      0.673      -0.057       0.088\n",
      "mnth_9         0.0516      0.038      1.351      0.177      -0.023       0.127\n",
      "mnth_10       -0.0509      0.036     -1.404      0.161      -0.122       0.020\n",
      "mnth5to10      0.2570      0.024     10.823      0.000       0.210       0.304\n",
      "==============================================================================\n",
      "Omnibus:                       11.595   Durbin-Watson:                   1.910\n",
      "Prob(Omnibus):                  0.003   Jarque-Bera (JB):                6.998\n",
      "Skew:                           0.108   Prob(JB):                       0.0302\n",
      "Kurtosis:                       2.468   Cond. No.                         7.31\n",
      "==============================================================================\n",
      "\n",
      "Notes:\n",
      "[1] Standard Errors assume that the covariance matrix of the errors is correctly specified.\n"
     ]
    },
    {
     "data": {
      "text/html": [
       "<div>\n",
       "<style scoped>\n",
       "    .dataframe tbody tr th:only-of-type {\n",
       "        vertical-align: middle;\n",
       "    }\n",
       "\n",
       "    .dataframe tbody tr th {\n",
       "        vertical-align: top;\n",
       "    }\n",
       "\n",
       "    .dataframe thead th {\n",
       "        text-align: right;\n",
       "    }\n",
       "</style>\n",
       "<table border=\"1\" class=\"dataframe\">\n",
       "  <thead>\n",
       "    <tr style=\"text-align: right;\">\n",
       "      <th></th>\n",
       "      <th>Features</th>\n",
       "      <th>VIF</th>\n",
       "    </tr>\n",
       "  </thead>\n",
       "  <tbody>\n",
       "    <tr>\n",
       "      <th>5</th>\n",
       "      <td>mnth5to10</td>\n",
       "      <td>1.92</td>\n",
       "    </tr>\n",
       "    <tr>\n",
       "      <th>0</th>\n",
       "      <td>const</td>\n",
       "      <td>1.91</td>\n",
       "    </tr>\n",
       "    <tr>\n",
       "      <th>4</th>\n",
       "      <td>mnth_10</td>\n",
       "      <td>1.36</td>\n",
       "    </tr>\n",
       "    <tr>\n",
       "      <th>2</th>\n",
       "      <td>mnth_7</td>\n",
       "      <td>1.34</td>\n",
       "    </tr>\n",
       "    <tr>\n",
       "      <th>1</th>\n",
       "      <td>mnth_6</td>\n",
       "      <td>1.32</td>\n",
       "    </tr>\n",
       "    <tr>\n",
       "      <th>3</th>\n",
       "      <td>mnth_9</td>\n",
       "      <td>1.31</td>\n",
       "    </tr>\n",
       "  </tbody>\n",
       "</table>\n",
       "</div>"
      ],
      "text/plain": [
       "    Features   VIF\n",
       "5  mnth5to10  1.92\n",
       "0      const  1.91\n",
       "4    mnth_10  1.36\n",
       "2     mnth_7  1.34\n",
       "1     mnth_6  1.32\n",
       "3     mnth_9  1.31"
      ]
     },
     "execution_count": 46,
     "metadata": {},
     "output_type": "execute_result"
    }
   ],
   "source": [
    "# Creating X_test dataframe with RFE selected variables\n",
    "X_train_rfe = X_train[col]\n",
    "# Adding a constant variable \n",
    "X_train_rfe = sm.add_constant(X_train_rfe)\n",
    "lm = sm.OLS(y_train,X_train_rfe).fit()   # Running the linear model\n",
    "#summary of the linear model\n",
    "print(lm.summary())\n",
    "# Calculate the VIFs for the new model\n",
    "vif = pd.DataFrame()\n",
    "X = X_train_rfe\n",
    "vif['Features'] = X.columns\n",
    "vif['VIF'] = [variance_inflation_factor(X.values, i) for i in range(X.shape[1])]\n",
    "vif['VIF'] = round(vif['VIF'], 2)\n",
    "vif = vif.sort_values(by = \"VIF\", ascending = False)\n",
    "vif"
   ]
  },
  {
   "cell_type": "markdown",
   "metadata": {},
   "source": [
    "### try building model using trends observed in data visualization and business sense"
   ]
  },
  {
   "cell_type": "markdown",
   "metadata": {},
   "source": [
    "RFE seems to be missing the business intuitive variables like atemp, yr, weathersit etc. that were identified in data visualization will try using those variables as well "
   ]
  },
  {
   "cell_type": "markdown",
   "metadata": {},
   "source": [
    "### Round 3"
   ]
  },
  {
   "cell_type": "code",
   "execution_count": 47,
   "metadata": {},
   "outputs": [],
   "source": [
    "#based on the trends observed in data visualization exercise select the following variables to start \n",
    "col = ['yr','holiday','atemp','weathersit_3','mnth5to10']\n"
   ]
  },
  {
   "cell_type": "code",
   "execution_count": 48,
   "metadata": {},
   "outputs": [
    {
     "name": "stdout",
     "output_type": "stream",
     "text": [
      "                            OLS Regression Results                            \n",
      "==============================================================================\n",
      "Dep. Variable:                    cnt   R-squared:                       0.750\n",
      "Model:                            OLS   Adj. R-squared:                  0.747\n",
      "Method:                 Least Squares   F-statistic:                     302.3\n",
      "Date:                Tue, 13 Sep 2022   Prob (F-statistic):          4.05e-149\n",
      "Time:                        20:59:30   Log-Likelihood:                 369.20\n",
      "No. Observations:                 510   AIC:                            -726.4\n",
      "Df Residuals:                     504   BIC:                            -701.0\n",
      "Df Model:                           5                                         \n",
      "Covariance Type:            nonrobust                                         \n",
      "================================================================================\n",
      "                   coef    std err          t      P>|t|      [0.025      0.975]\n",
      "--------------------------------------------------------------------------------\n",
      "const            0.1069      0.016      6.593      0.000       0.075       0.139\n",
      "yr               0.2417      0.011     22.893      0.000       0.221       0.262\n",
      "holiday         -0.0728      0.028     -2.637      0.009      -0.127      -0.019\n",
      "atemp            0.5112      0.039     13.103      0.000       0.435       0.588\n",
      "weathersit_3    -0.2120      0.029     -7.213      0.000      -0.270      -0.154\n",
      "mnth5to10        0.0792      0.017      4.675      0.000       0.046       0.113\n",
      "==============================================================================\n",
      "Omnibus:                       28.435   Durbin-Watson:                   1.954\n",
      "Prob(Omnibus):                  0.000   Jarque-Bera (JB):               34.118\n",
      "Skew:                          -0.519   Prob(JB):                     3.90e-08\n",
      "Kurtosis:                       3.726   Cond. No.                         11.4\n",
      "==============================================================================\n",
      "\n",
      "Notes:\n",
      "[1] Standard Errors assume that the covariance matrix of the errors is correctly specified.\n"
     ]
    },
    {
     "data": {
      "text/html": [
       "<div>\n",
       "<style scoped>\n",
       "    .dataframe tbody tr th:only-of-type {\n",
       "        vertical-align: middle;\n",
       "    }\n",
       "\n",
       "    .dataframe tbody tr th {\n",
       "        vertical-align: top;\n",
       "    }\n",
       "\n",
       "    .dataframe thead th {\n",
       "        text-align: right;\n",
       "    }\n",
       "</style>\n",
       "<table border=\"1\" class=\"dataframe\">\n",
       "  <thead>\n",
       "    <tr style=\"text-align: right;\">\n",
       "      <th></th>\n",
       "      <th>Features</th>\n",
       "      <th>VIF</th>\n",
       "    </tr>\n",
       "  </thead>\n",
       "  <tbody>\n",
       "    <tr>\n",
       "      <th>0</th>\n",
       "      <td>const</td>\n",
       "      <td>9.63</td>\n",
       "    </tr>\n",
       "    <tr>\n",
       "      <th>3</th>\n",
       "      <td>atemp</td>\n",
       "      <td>2.64</td>\n",
       "    </tr>\n",
       "    <tr>\n",
       "      <th>5</th>\n",
       "      <td>mnth5to10</td>\n",
       "      <td>2.62</td>\n",
       "    </tr>\n",
       "    <tr>\n",
       "      <th>1</th>\n",
       "      <td>yr</td>\n",
       "      <td>1.02</td>\n",
       "    </tr>\n",
       "    <tr>\n",
       "      <th>4</th>\n",
       "      <td>weathersit_3</td>\n",
       "      <td>1.02</td>\n",
       "    </tr>\n",
       "    <tr>\n",
       "      <th>2</th>\n",
       "      <td>holiday</td>\n",
       "      <td>1.00</td>\n",
       "    </tr>\n",
       "  </tbody>\n",
       "</table>\n",
       "</div>"
      ],
      "text/plain": [
       "       Features   VIF\n",
       "0         const  9.63\n",
       "3         atemp  2.64\n",
       "5     mnth5to10  2.62\n",
       "1            yr  1.02\n",
       "4  weathersit_3  1.02\n",
       "2       holiday  1.00"
      ]
     },
     "execution_count": 48,
     "metadata": {},
     "output_type": "execute_result"
    }
   ],
   "source": [
    "# Creating X_test dataframe with RFE selected variables\n",
    "X_train_manual = X_train[col]\n",
    "# Adding a constant variable \n",
    "X_train_manual = sm.add_constant(X_train_manual)\n",
    "lm = sm.OLS(y_train,X_train_manual).fit()   # Running the linear model\n",
    "#summary of the linear model\n",
    "print(lm.summary())\n",
    "# Calculate the VIFs for the new model\n",
    "vif = pd.DataFrame()\n",
    "X = X_train_manual\n",
    "vif['Features'] = X.columns\n",
    "vif['VIF'] = [variance_inflation_factor(X.values, i) for i in range(X.shape[1])]\n",
    "vif['VIF'] = round(vif['VIF'], 2)\n",
    "vif = vif.sort_values(by = \"VIF\", ascending = False)\n",
    "vif"
   ]
  },
  {
   "cell_type": "markdown",
   "metadata": {},
   "source": [
    "while all variables have p value < 0.05 VIF is high for the constant signifying that const is explained well by other variables so in next round will try without constant"
   ]
  },
  {
   "cell_type": "markdown",
   "metadata": {},
   "source": [
    "### Round 4"
   ]
  },
  {
   "cell_type": "code",
   "execution_count": 49,
   "metadata": {},
   "outputs": [
    {
     "name": "stdout",
     "output_type": "stream",
     "text": [
      "                                 OLS Regression Results                                \n",
      "=======================================================================================\n",
      "Dep. Variable:                    cnt   R-squared (uncentered):                   0.955\n",
      "Model:                            OLS   Adj. R-squared (uncentered):              0.954\n",
      "Method:                 Least Squares   F-statistic:                              2128.\n",
      "Date:                Tue, 13 Sep 2022   Prob (F-statistic):                        0.00\n",
      "Time:                        20:59:30   Log-Likelihood:                          348.10\n",
      "No. Observations:                 510   AIC:                                     -686.2\n",
      "Df Residuals:                     505   BIC:                                     -665.0\n",
      "Df Model:                           5                                                  \n",
      "Covariance Type:            nonrobust                                                  \n",
      "================================================================================\n",
      "                   coef    std err          t      P>|t|      [0.025      0.975]\n",
      "--------------------------------------------------------------------------------\n",
      "yr               0.2608      0.011     24.655      0.000       0.240       0.282\n",
      "holiday         -0.0611      0.029     -2.129      0.034      -0.117      -0.005\n",
      "atemp            0.7227      0.023     31.270      0.000       0.677       0.768\n",
      "weathersit_3    -0.1797      0.030     -5.955      0.000      -0.239      -0.120\n",
      "mnth5to10        0.0280      0.016      1.785      0.075      -0.003       0.059\n",
      "==============================================================================\n",
      "Omnibus:                       33.996   Durbin-Watson:                   1.889\n",
      "Prob(Omnibus):                  0.000   Jarque-Bera (JB):               42.333\n",
      "Skew:                          -0.575   Prob(JB):                     6.42e-10\n",
      "Kurtosis:                       3.819   Cond. No.                         5.78\n",
      "==============================================================================\n",
      "\n",
      "Notes:\n",
      "[1] R² is computed without centering (uncentered) since the model does not contain a constant.\n",
      "[2] Standard Errors assume that the covariance matrix of the errors is correctly specified.\n"
     ]
    },
    {
     "data": {
      "text/html": [
       "<div>\n",
       "<style scoped>\n",
       "    .dataframe tbody tr th:only-of-type {\n",
       "        vertical-align: middle;\n",
       "    }\n",
       "\n",
       "    .dataframe tbody tr th {\n",
       "        vertical-align: top;\n",
       "    }\n",
       "\n",
       "    .dataframe thead th {\n",
       "        text-align: right;\n",
       "    }\n",
       "</style>\n",
       "<table border=\"1\" class=\"dataframe\">\n",
       "  <thead>\n",
       "    <tr style=\"text-align: right;\">\n",
       "      <th></th>\n",
       "      <th>Features</th>\n",
       "      <th>VIF</th>\n",
       "    </tr>\n",
       "  </thead>\n",
       "  <tbody>\n",
       "    <tr>\n",
       "      <th>2</th>\n",
       "      <td>atemp</td>\n",
       "      <td>5.63</td>\n",
       "    </tr>\n",
       "    <tr>\n",
       "      <th>4</th>\n",
       "      <td>mnth5to10</td>\n",
       "      <td>3.96</td>\n",
       "    </tr>\n",
       "    <tr>\n",
       "      <th>0</th>\n",
       "      <td>yr</td>\n",
       "      <td>1.98</td>\n",
       "    </tr>\n",
       "    <tr>\n",
       "      <th>1</th>\n",
       "      <td>holiday</td>\n",
       "      <td>1.04</td>\n",
       "    </tr>\n",
       "    <tr>\n",
       "      <th>3</th>\n",
       "      <td>weathersit_3</td>\n",
       "      <td>1.03</td>\n",
       "    </tr>\n",
       "  </tbody>\n",
       "</table>\n",
       "</div>"
      ],
      "text/plain": [
       "       Features   VIF\n",
       "2         atemp  5.63\n",
       "4     mnth5to10  3.96\n",
       "0            yr  1.98\n",
       "1       holiday  1.04\n",
       "3  weathersit_3  1.03"
      ]
     },
     "execution_count": 49,
     "metadata": {},
     "output_type": "execute_result"
    }
   ],
   "source": [
    "#estimate with same variables but without constant\n",
    "\n",
    "# Creating X_test dataframe with RFE selected variables\n",
    "X_train_manual = X_train[col]\n",
    "lm = sm.OLS(y_train,X_train_manual).fit()   # Running the linear model\n",
    "#summary of the linear model\n",
    "print(lm.summary())\n",
    "# Calculate the VIFs for the new model\n",
    "vif = pd.DataFrame()\n",
    "X = X_train_manual\n",
    "vif['Features'] = X.columns\n",
    "vif['VIF'] = [variance_inflation_factor(X.values, i) for i in range(X.shape[1])]\n",
    "vif['VIF'] = round(vif['VIF'], 2)\n",
    "vif = vif.sort_values(by = \"VIF\", ascending = False)\n",
    "vif"
   ]
  },
  {
   "cell_type": "markdown",
   "metadata": {},
   "source": [
    "we can see that mnth5to10 has become insignificant so will try removing this variable"
   ]
  },
  {
   "cell_type": "markdown",
   "metadata": {},
   "source": [
    "### Round 5"
   ]
  },
  {
   "cell_type": "code",
   "execution_count": 50,
   "metadata": {},
   "outputs": [],
   "source": [
    "col = ['yr','holiday','atemp','weathersit_3']"
   ]
  },
  {
   "cell_type": "code",
   "execution_count": 51,
   "metadata": {},
   "outputs": [
    {
     "name": "stdout",
     "output_type": "stream",
     "text": [
      "                                 OLS Regression Results                                \n",
      "=======================================================================================\n",
      "Dep. Variable:                    cnt   R-squared (uncentered):                   0.954\n",
      "Model:                            OLS   Adj. R-squared (uncentered):              0.954\n",
      "Method:                 Least Squares   F-statistic:                              2648.\n",
      "Date:                Tue, 13 Sep 2022   Prob (F-statistic):                        0.00\n",
      "Time:                        20:59:30   Log-Likelihood:                          346.50\n",
      "No. Observations:                 510   AIC:                                     -685.0\n",
      "Df Residuals:                     506   BIC:                                     -668.1\n",
      "Df Model:                           4                                                  \n",
      "Covariance Type:            nonrobust                                                  \n",
      "================================================================================\n",
      "                   coef    std err          t      P>|t|      [0.025      0.975]\n",
      "--------------------------------------------------------------------------------\n",
      "yr               0.2570      0.010     24.747      0.000       0.237       0.277\n",
      "holiday         -0.0642      0.029     -2.235      0.026      -0.121      -0.008\n",
      "atemp            0.7560      0.014     55.453      0.000       0.729       0.783\n",
      "weathersit_3    -0.1828      0.030     -6.056      0.000      -0.242      -0.124\n",
      "==============================================================================\n",
      "Omnibus:                       27.434   Durbin-Watson:                   1.892\n",
      "Prob(Omnibus):                  0.000   Jarque-Bera (JB):               32.692\n",
      "Skew:                          -0.509   Prob(JB):                     7.96e-08\n",
      "Kurtosis:                       3.710   Cond. No.                         4.71\n",
      "==============================================================================\n",
      "\n",
      "Notes:\n",
      "[1] R² is computed without centering (uncentered) since the model does not contain a constant.\n",
      "[2] Standard Errors assume that the covariance matrix of the errors is correctly specified.\n"
     ]
    },
    {
     "data": {
      "text/html": [
       "<div>\n",
       "<style scoped>\n",
       "    .dataframe tbody tr th:only-of-type {\n",
       "        vertical-align: middle;\n",
       "    }\n",
       "\n",
       "    .dataframe tbody tr th {\n",
       "        vertical-align: top;\n",
       "    }\n",
       "\n",
       "    .dataframe thead th {\n",
       "        text-align: right;\n",
       "    }\n",
       "</style>\n",
       "<table border=\"1\" class=\"dataframe\">\n",
       "  <thead>\n",
       "    <tr style=\"text-align: right;\">\n",
       "      <th></th>\n",
       "      <th>Features</th>\n",
       "      <th>VIF</th>\n",
       "    </tr>\n",
       "  </thead>\n",
       "  <tbody>\n",
       "    <tr>\n",
       "      <th>2</th>\n",
       "      <td>atemp</td>\n",
       "      <td>1.95</td>\n",
       "    </tr>\n",
       "    <tr>\n",
       "      <th>0</th>\n",
       "      <td>yr</td>\n",
       "      <td>1.90</td>\n",
       "    </tr>\n",
       "    <tr>\n",
       "      <th>1</th>\n",
       "      <td>holiday</td>\n",
       "      <td>1.03</td>\n",
       "    </tr>\n",
       "    <tr>\n",
       "      <th>3</th>\n",
       "      <td>weathersit_3</td>\n",
       "      <td>1.02</td>\n",
       "    </tr>\n",
       "  </tbody>\n",
       "</table>\n",
       "</div>"
      ],
      "text/plain": [
       "       Features   VIF\n",
       "2         atemp  1.95\n",
       "0            yr  1.90\n",
       "1       holiday  1.03\n",
       "3  weathersit_3  1.02"
      ]
     },
     "execution_count": 51,
     "metadata": {},
     "output_type": "execute_result"
    }
   ],
   "source": [
    "# Creating X_test dataframe with RFE selected variables\n",
    "X_train_manual = X_train[col]\n",
    "lm = sm.OLS(y_train,X_train_manual).fit()   # Running the linear model\n",
    "#summary of the linear model\n",
    "print(lm.summary())\n",
    "# Calculate the VIFs for the new model\n",
    "vif = pd.DataFrame()\n",
    "X = X_train_manual\n",
    "vif['Features'] = X.columns\n",
    "vif['VIF'] = [variance_inflation_factor(X.values, i) for i in range(X.shape[1])]\n",
    "vif['VIF'] = round(vif['VIF'], 2)\n",
    "vif = vif.sort_values(by = \"VIF\", ascending = False)\n",
    "vif"
   ]
  },
  {
   "cell_type": "markdown",
   "metadata": {},
   "source": [
    "## Step 6: Residual Analysis of the train data\n",
    "\n",
    "So, now to check if the error terms are also normally distributed (which is infact, one of the major assumptions of linear regression), let us plot the histogram of the error terms and see what it looks like."
   ]
  },
  {
   "cell_type": "code",
   "execution_count": 52,
   "metadata": {},
   "outputs": [],
   "source": [
    "y_train_pred = lm.predict(X_train_manual)"
   ]
  },
  {
   "cell_type": "code",
   "execution_count": 53,
   "metadata": {},
   "outputs": [
    {
     "data": {
      "image/png": "[encoded data removed]",
      "text/plain": [
       "<Figure size 432x288 with 1 Axes>"
      ]
     },
     "metadata": {
      "needs_background": "light"
     },
     "output_type": "display_data"
    }
   ],
   "source": [
    "# Plot the histogram of the error terms\n",
    "fig = plt.figure()\n",
    "sns.distplot((y_train - y_train_pred), bins = 20)\n",
    "fig.suptitle('Error Terms', fontsize = 20)                  # Plot heading \n",
    "plt.xlabel('Errors', fontsize = 18)                         # X-label\n",
    "plt.show()"
   ]
  },
  {
   "cell_type": "markdown",
   "metadata": {},
   "source": [
    "## Step 7: Making Predictions Using the selected Model\n",
    "\n",
    "Now that we have fitted the model and checked the normality of error terms, it's time to go ahead and make predictions using the final, i.e. fourth model."
   ]
  },
  {
   "cell_type": "markdown",
   "metadata": {},
   "source": [
    "#### Applying the scaling on the test sets"
   ]
  },
  {
   "cell_type": "code",
   "execution_count": 54,
   "metadata": {},
   "outputs": [],
   "source": [
    "# Apply scaler() to all the numeric columns \n",
    "numeric = ['atemp', 'hum', 'windspeed', 'cnt']\n",
    "\n",
    "df_test[numeric] = scaler.transform(df_test[numeric])"
   ]
  },
  {
   "cell_type": "code",
   "execution_count": 55,
   "metadata": {},
   "outputs": [
    {
     "data": {
      "text/html": [
       "<div>\n",
       "<style scoped>\n",
       "    .dataframe tbody tr th:only-of-type {\n",
       "        vertical-align: middle;\n",
       "    }\n",
       "\n",
       "    .dataframe tbody tr th {\n",
       "        vertical-align: top;\n",
       "    }\n",
       "\n",
       "    .dataframe thead th {\n",
       "        text-align: right;\n",
       "    }\n",
       "</style>\n",
       "<table border=\"1\" class=\"dataframe\">\n",
       "  <thead>\n",
       "    <tr style=\"text-align: right;\">\n",
       "      <th></th>\n",
       "      <th>yr</th>\n",
       "      <th>holiday</th>\n",
       "      <th>workingday</th>\n",
       "      <th>atemp</th>\n",
       "      <th>hum</th>\n",
       "      <th>windspeed</th>\n",
       "      <th>cnt</th>\n",
       "      <th>season_2</th>\n",
       "      <th>season_3</th>\n",
       "      <th>season_4</th>\n",
       "      <th>...</th>\n",
       "      <th>mnth_12</th>\n",
       "      <th>weekday_1</th>\n",
       "      <th>weekday_2</th>\n",
       "      <th>weekday_3</th>\n",
       "      <th>weekday_4</th>\n",
       "      <th>weekday_5</th>\n",
       "      <th>weekday_6</th>\n",
       "      <th>weathersit_2</th>\n",
       "      <th>weathersit_3</th>\n",
       "      <th>mnth5to10</th>\n",
       "    </tr>\n",
       "  </thead>\n",
       "  <tbody>\n",
       "    <tr>\n",
       "      <th>count</th>\n",
       "      <td>219.000000</td>\n",
       "      <td>219.000000</td>\n",
       "      <td>219.000000</td>\n",
       "      <td>219.000000</td>\n",
       "      <td>219.000000</td>\n",
       "      <td>219.000000</td>\n",
       "      <td>219.000000</td>\n",
       "      <td>219.000000</td>\n",
       "      <td>219.000000</td>\n",
       "      <td>219.000000</td>\n",
       "      <td>...</td>\n",
       "      <td>219.000000</td>\n",
       "      <td>219.000000</td>\n",
       "      <td>219.000000</td>\n",
       "      <td>219.000000</td>\n",
       "      <td>219.000000</td>\n",
       "      <td>219.000000</td>\n",
       "      <td>219.000000</td>\n",
       "      <td>219.000000</td>\n",
       "      <td>219.000000</td>\n",
       "      <td>219.000000</td>\n",
       "    </tr>\n",
       "    <tr>\n",
       "      <th>mean</th>\n",
       "      <td>0.442922</td>\n",
       "      <td>0.009132</td>\n",
       "      <td>0.680365</td>\n",
       "      <td>0.562858</td>\n",
       "      <td>0.673041</td>\n",
       "      <td>0.309480</td>\n",
       "      <td>0.527862</td>\n",
       "      <td>0.242009</td>\n",
       "      <td>0.305936</td>\n",
       "      <td>0.264840</td>\n",
       "      <td>...</td>\n",
       "      <td>0.063927</td>\n",
       "      <td>0.132420</td>\n",
       "      <td>0.132420</td>\n",
       "      <td>0.127854</td>\n",
       "      <td>0.132420</td>\n",
       "      <td>0.164384</td>\n",
       "      <td>0.132420</td>\n",
       "      <td>0.397260</td>\n",
       "      <td>0.018265</td>\n",
       "      <td>0.566210</td>\n",
       "    </tr>\n",
       "    <tr>\n",
       "      <th>std</th>\n",
       "      <td>0.497869</td>\n",
       "      <td>0.095344</td>\n",
       "      <td>0.467403</td>\n",
       "      <td>0.214910</td>\n",
       "      <td>0.142423</td>\n",
       "      <td>0.170279</td>\n",
       "      <td>0.207631</td>\n",
       "      <td>0.429281</td>\n",
       "      <td>0.461858</td>\n",
       "      <td>0.442259</td>\n",
       "      <td>...</td>\n",
       "      <td>0.245183</td>\n",
       "      <td>0.339723</td>\n",
       "      <td>0.339723</td>\n",
       "      <td>0.334692</td>\n",
       "      <td>0.339723</td>\n",
       "      <td>0.371472</td>\n",
       "      <td>0.339723</td>\n",
       "      <td>0.490452</td>\n",
       "      <td>0.134214</td>\n",
       "      <td>0.496732</td>\n",
       "    </tr>\n",
       "    <tr>\n",
       "      <th>min</th>\n",
       "      <td>0.000000</td>\n",
       "      <td>0.000000</td>\n",
       "      <td>0.000000</td>\n",
       "      <td>0.026455</td>\n",
       "      <td>0.261354</td>\n",
       "      <td>-0.042808</td>\n",
       "      <td>0.068323</td>\n",
       "      <td>0.000000</td>\n",
       "      <td>0.000000</td>\n",
       "      <td>0.000000</td>\n",
       "      <td>...</td>\n",
       "      <td>0.000000</td>\n",
       "      <td>0.000000</td>\n",
       "      <td>0.000000</td>\n",
       "      <td>0.000000</td>\n",
       "      <td>0.000000</td>\n",
       "      <td>0.000000</td>\n",
       "      <td>0.000000</td>\n",
       "      <td>0.000000</td>\n",
       "      <td>0.000000</td>\n",
       "      <td>0.000000</td>\n",
       "    </tr>\n",
       "    <tr>\n",
       "      <th>25%</th>\n",
       "      <td>0.000000</td>\n",
       "      <td>0.000000</td>\n",
       "      <td>0.000000</td>\n",
       "      <td>0.398090</td>\n",
       "      <td>0.570051</td>\n",
       "      <td>0.182131</td>\n",
       "      <td>0.397398</td>\n",
       "      <td>0.000000</td>\n",
       "      <td>0.000000</td>\n",
       "      <td>0.000000</td>\n",
       "      <td>...</td>\n",
       "      <td>0.000000</td>\n",
       "      <td>0.000000</td>\n",
       "      <td>0.000000</td>\n",
       "      <td>0.000000</td>\n",
       "      <td>0.000000</td>\n",
       "      <td>0.000000</td>\n",
       "      <td>0.000000</td>\n",
       "      <td>0.000000</td>\n",
       "      <td>0.000000</td>\n",
       "      <td>0.000000</td>\n",
       "    </tr>\n",
       "    <tr>\n",
       "      <th>50%</th>\n",
       "      <td>0.000000</td>\n",
       "      <td>0.000000</td>\n",
       "      <td>1.000000</td>\n",
       "      <td>0.581008</td>\n",
       "      <td>0.677807</td>\n",
       "      <td>0.292758</td>\n",
       "      <td>0.522911</td>\n",
       "      <td>0.000000</td>\n",
       "      <td>0.000000</td>\n",
       "      <td>0.000000</td>\n",
       "      <td>...</td>\n",
       "      <td>0.000000</td>\n",
       "      <td>0.000000</td>\n",
       "      <td>0.000000</td>\n",
       "      <td>0.000000</td>\n",
       "      <td>0.000000</td>\n",
       "      <td>0.000000</td>\n",
       "      <td>0.000000</td>\n",
       "      <td>0.000000</td>\n",
       "      <td>0.000000</td>\n",
       "      <td>1.000000</td>\n",
       "    </tr>\n",
       "    <tr>\n",
       "      <th>75%</th>\n",
       "      <td>1.000000</td>\n",
       "      <td>0.000000</td>\n",
       "      <td>1.000000</td>\n",
       "      <td>0.749978</td>\n",
       "      <td>0.772065</td>\n",
       "      <td>0.407056</td>\n",
       "      <td>0.654518</td>\n",
       "      <td>0.000000</td>\n",
       "      <td>1.000000</td>\n",
       "      <td>1.000000</td>\n",
       "      <td>...</td>\n",
       "      <td>0.000000</td>\n",
       "      <td>0.000000</td>\n",
       "      <td>0.000000</td>\n",
       "      <td>0.000000</td>\n",
       "      <td>0.000000</td>\n",
       "      <td>0.000000</td>\n",
       "      <td>0.000000</td>\n",
       "      <td>1.000000</td>\n",
       "      <td>0.000000</td>\n",
       "      <td>1.000000</td>\n",
       "    </tr>\n",
       "    <tr>\n",
       "      <th>max</th>\n",
       "      <td>1.000000</td>\n",
       "      <td>1.000000</td>\n",
       "      <td>1.000000</td>\n",
       "      <td>1.019437</td>\n",
       "      <td>0.975076</td>\n",
       "      <td>0.858328</td>\n",
       "      <td>1.018634</td>\n",
       "      <td>1.000000</td>\n",
       "      <td>1.000000</td>\n",
       "      <td>1.000000</td>\n",
       "      <td>...</td>\n",
       "      <td>1.000000</td>\n",
       "      <td>1.000000</td>\n",
       "      <td>1.000000</td>\n",
       "      <td>1.000000</td>\n",
       "      <td>1.000000</td>\n",
       "      <td>1.000000</td>\n",
       "      <td>1.000000</td>\n",
       "      <td>1.000000</td>\n",
       "      <td>1.000000</td>\n",
       "      <td>1.000000</td>\n",
       "    </tr>\n",
       "  </tbody>\n",
       "</table>\n",
       "<p>8 rows × 30 columns</p>\n",
       "</div>"
      ],
      "text/plain": [
       "               yr     holiday  workingday       atemp         hum   windspeed  \\\n",
       "count  219.000000  219.000000  219.000000  219.000000  219.000000  219.000000   \n",
       "mean     0.442922    0.009132    0.680365    0.562858    0.673041    0.309480   \n",
       "std      0.497869    0.095344    0.467403    0.214910    0.142423    0.170279   \n",
       "min      0.000000    0.000000    0.000000    0.026455    0.261354   -0.042808   \n",
       "25%      0.000000    0.000000    0.000000    0.398090    0.570051    0.182131   \n",
       "50%      0.000000    0.000000    1.000000    0.581008    0.677807    0.292758   \n",
       "75%      1.000000    0.000000    1.000000    0.749978    0.772065    0.407056   \n",
       "max      1.000000    1.000000    1.000000    1.019437    0.975076    0.858328   \n",
       "\n",
       "              cnt    season_2    season_3    season_4  ...     mnth_12  \\\n",
       "count  219.000000  219.000000  219.000000  219.000000  ...  219.000000   \n",
       "mean     0.527862    0.242009    0.305936    0.264840  ...    0.063927   \n",
       "std      0.207631    0.429281    0.461858    0.442259  ...    0.245183   \n",
       "min      0.068323    0.000000    0.000000    0.000000  ...    0.000000   \n",
       "25%      0.397398    0.000000    0.000000    0.000000  ...    0.000000   \n",
       "50%      0.522911    0.000000    0.000000    0.000000  ...    0.000000   \n",
       "75%      0.654518    0.000000    1.000000    1.000000  ...    0.000000   \n",
       "max      1.018634    1.000000    1.000000    1.000000  ...    1.000000   \n",
       "\n",
       "        weekday_1   weekday_2   weekday_3   weekday_4   weekday_5   weekday_6  \\\n",
       "count  219.000000  219.000000  219.000000  219.000000  219.000000  219.000000   \n",
       "mean     0.132420    0.132420    0.127854    0.132420    0.164384    0.132420   \n",
       "std      0.339723    0.339723    0.334692    0.339723    0.371472    0.339723   \n",
       "min      0.000000    0.000000    0.000000    0.000000    0.000000    0.000000   \n",
       "25%      0.000000    0.000000    0.000000    0.000000    0.000000    0.000000   \n",
       "50%      0.000000    0.000000    0.000000    0.000000    0.000000    0.000000   \n",
       "75%      0.000000    0.000000    0.000000    0.000000    0.000000    0.000000   \n",
       "max      1.000000    1.000000    1.000000    1.000000    1.000000    1.000000   \n",
       "\n",
       "       weathersit_2  weathersit_3   mnth5to10  \n",
       "count    219.000000    219.000000  219.000000  \n",
       "mean       0.397260      0.018265    0.566210  \n",
       "std        0.490452      0.134214    0.496732  \n",
       "min        0.000000      0.000000    0.000000  \n",
       "25%        0.000000      0.000000    0.000000  \n",
       "50%        0.000000      0.000000    1.000000  \n",
       "75%        1.000000      0.000000    1.000000  \n",
       "max        1.000000      1.000000    1.000000  \n",
       "\n",
       "[8 rows x 30 columns]"
      ]
     },
     "execution_count": 55,
     "metadata": {},
     "output_type": "execute_result"
    }
   ],
   "source": [
    "df_test.describe()"
   ]
  },
  {
   "cell_type": "markdown",
   "metadata": {},
   "source": [
    "#### Dividing into X_test and y_test"
   ]
  },
  {
   "cell_type": "code",
   "execution_count": 56,
   "metadata": {},
   "outputs": [],
   "source": [
    "y_test = df_test.pop('cnt')\n",
    "X_test = df_test"
   ]
  },
  {
   "cell_type": "code",
   "execution_count": 57,
   "metadata": {},
   "outputs": [],
   "source": [
    "# Adding constant variable to test dataframe\n",
    "#X_test_m4 = sm.add_constant(X_test)"
   ]
  },
  {
   "cell_type": "code",
   "execution_count": 58,
   "metadata": {},
   "outputs": [],
   "source": [
    "# Creating X_test_m4 dataframe by dropping variables from X_test_m4\n",
    "\n",
    "X_test_new = X_test[col]"
   ]
  },
  {
   "cell_type": "code",
   "execution_count": 59,
   "metadata": {},
   "outputs": [],
   "source": [
    "# Making predictions using the fourth model\n",
    "\n",
    "y_pred = lm.predict(X_test_new)"
   ]
  },
  {
   "cell_type": "markdown",
   "metadata": {},
   "source": [
    "## Step 8: Model Evaluation\n",
    "\n",
    "Let's now plot the graph for actual versus predicted values."
   ]
  },
  {
   "cell_type": "code",
   "execution_count": 60,
   "metadata": {},
   "outputs": [
    {
     "data": {
      "image/png": "[encoded data removed]",
      "text/plain": [
       "<Figure size 432x288 with 1 Axes>"
      ]
     },
     "metadata": {
      "needs_background": "light"
     },
     "output_type": "display_data"
    }
   ],
   "source": [
    "# Plotting y_test and y_pred to understand the spread.\n",
    "fig = plt.figure()\n",
    "plt.scatter(y_test,y_pred)\n",
    "fig.suptitle('y_test vs y_pred', fontsize=20)              # Plot heading \n",
    "plt.xlabel('y_test', fontsize=18)                          # X-label\n",
    "plt.ylabel('y_pred', fontsize=16)                          # Y-label\n",
    "plt.show()"
   ]
  },
  {
   "cell_type": "markdown",
   "metadata": {},
   "source": [
    "### R-squared score on the test set"
   ]
  },
  {
   "cell_type": "code",
   "execution_count": 61,
   "metadata": {},
   "outputs": [
    {
     "data": {
      "text/plain": [
       "0.6165312763054072"
      ]
     },
     "execution_count": 61,
     "metadata": {},
     "output_type": "execute_result"
    }
   ],
   "source": [
    "from sklearn.metrics import r2_score\n",
    "r2_score(y_test, y_pred)"
   ]
  },
  {
   "cell_type": "markdown",
   "metadata": {},
   "source": [
    "#### it can be seen that there is overfitting given the high difference in r Square between train and test, so will explore further options"
   ]
  },
  {
   "cell_type": "markdown",
   "metadata": {},
   "source": [
    "### Round 6"
   ]
  },
  {
   "cell_type": "code",
   "execution_count": 62,
   "metadata": {},
   "outputs": [
    {
     "name": "stdout",
     "output_type": "stream",
     "text": [
      "                                 OLS Regression Results                                \n",
      "=======================================================================================\n",
      "Dep. Variable:                    cnt   R-squared (uncentered):                   0.955\n",
      "Model:                            OLS   Adj. R-squared (uncentered):              0.955\n",
      "Method:                 Least Squares   F-statistic:                              2693.\n",
      "Date:                Tue, 13 Sep 2022   Prob (F-statistic):                        0.00\n",
      "Time:                        20:59:31   Log-Likelihood:                          350.65\n",
      "No. Observations:                 510   AIC:                                     -693.3\n",
      "Df Residuals:                     506   BIC:                                     -676.4\n",
      "Df Model:                           4                                                  \n",
      "Covariance Type:            nonrobust                                                  \n",
      "================================================================================\n",
      "                   coef    std err          t      P>|t|      [0.025      0.975]\n",
      "--------------------------------------------------------------------------------\n",
      "yr               0.2509      0.010     24.111      0.000       0.230       0.271\n",
      "atemp            0.7140      0.017     41.781      0.000       0.680       0.748\n",
      "weathersit_3    -0.1932      0.030     -6.416      0.000      -0.252      -0.134\n",
      "workingday       0.0383      0.010      3.659      0.000       0.018       0.059\n",
      "==============================================================================\n",
      "Omnibus:                       17.043   Durbin-Watson:                   1.911\n",
      "Prob(Omnibus):                  0.000   Jarque-Bera (JB):               19.163\n",
      "Skew:                          -0.381   Prob(JB):                     6.90e-05\n",
      "Kurtosis:                       3.567   Cond. No.                         6.11\n",
      "==============================================================================\n",
      "\n",
      "Notes:\n",
      "[1] R² is computed without centering (uncentered) since the model does not contain a constant.\n",
      "[2] Standard Errors assume that the covariance matrix of the errors is correctly specified.\n"
     ]
    },
    {
     "data": {
      "text/html": [
       "<div>\n",
       "<style scoped>\n",
       "    .dataframe tbody tr th:only-of-type {\n",
       "        vertical-align: middle;\n",
       "    }\n",
       "\n",
       "    .dataframe tbody tr th {\n",
       "        vertical-align: top;\n",
       "    }\n",
       "\n",
       "    .dataframe thead th {\n",
       "        text-align: right;\n",
       "    }\n",
       "</style>\n",
       "<table border=\"1\" class=\"dataframe\">\n",
       "  <thead>\n",
       "    <tr style=\"text-align: right;\">\n",
       "      <th></th>\n",
       "      <th>Features</th>\n",
       "      <th>VIF</th>\n",
       "    </tr>\n",
       "  </thead>\n",
       "  <tbody>\n",
       "    <tr>\n",
       "      <th>1</th>\n",
       "      <td>atemp</td>\n",
       "      <td>3.11</td>\n",
       "    </tr>\n",
       "    <tr>\n",
       "      <th>3</th>\n",
       "      <td>workingday</td>\n",
       "      <td>2.58</td>\n",
       "    </tr>\n",
       "    <tr>\n",
       "      <th>0</th>\n",
       "      <td>yr</td>\n",
       "      <td>1.94</td>\n",
       "    </tr>\n",
       "    <tr>\n",
       "      <th>2</th>\n",
       "      <td>weathersit_3</td>\n",
       "      <td>1.03</td>\n",
       "    </tr>\n",
       "  </tbody>\n",
       "</table>\n",
       "</div>"
      ],
      "text/plain": [
       "       Features   VIF\n",
       "1         atemp  3.11\n",
       "3    workingday  2.58\n",
       "0            yr  1.94\n",
       "2  weathersit_3  1.03"
      ]
     },
     "execution_count": 62,
     "metadata": {},
     "output_type": "execute_result"
    }
   ],
   "source": [
    "col = ['yr','atemp','weathersit_3','workingday']\n",
    "# Creating X_test dataframe with RFE selected variables\n",
    "X_train_manual = X_train[col]\n",
    "# Adding a constant variable \n",
    "#X_train_manual = sm.add_constant(X_train_manual)\n",
    "lm = sm.OLS(y_train,X_train_manual).fit()   # Running the linear model\n",
    "#summary of the linear model\n",
    "print(lm.summary())\n",
    "# Calculate the VIFs for the new model\n",
    "vif = pd.DataFrame()\n",
    "X = X_train_manual\n",
    "vif['Features'] = X.columns\n",
    "vif['VIF'] = [variance_inflation_factor(X.values, i) for i in range(X.shape[1])]\n",
    "vif['VIF'] = round(vif['VIF'], 2)\n",
    "vif = vif.sort_values(by = \"VIF\", ascending = False)\n",
    "vif"
   ]
  },
  {
   "cell_type": "code",
   "execution_count": 63,
   "metadata": {},
   "outputs": [
    {
     "data": {
      "text/plain": [
       "0.6286538250805496"
      ]
     },
     "execution_count": 63,
     "metadata": {},
     "output_type": "execute_result"
    }
   ],
   "source": [
    "X_test_new = X_test[col]\n",
    "y_pred = lm.predict(X_test_new)\n",
    "r2_score(y_test, y_pred)"
   ]
  },
  {
   "cell_type": "markdown",
   "metadata": {},
   "source": [
    "### Round 7"
   ]
  },
  {
   "cell_type": "code",
   "execution_count": 64,
   "metadata": {},
   "outputs": [
    {
     "name": "stdout",
     "output_type": "stream",
     "text": [
      "                                 OLS Regression Results                                \n",
      "=======================================================================================\n",
      "Dep. Variable:                    cnt   R-squared (uncentered):                   0.955\n",
      "Model:                            OLS   Adj. R-squared (uncentered):              0.955\n",
      "Method:                 Least Squares   F-statistic:                              2154.\n",
      "Date:                Tue, 13 Sep 2022   Prob (F-statistic):                        0.00\n",
      "Time:                        20:59:31   Log-Likelihood:                          351.10\n",
      "No. Observations:                 510   AIC:                                     -692.2\n",
      "Df Residuals:                     505   BIC:                                     -671.0\n",
      "Df Model:                           5                                                  \n",
      "Covariance Type:            nonrobust                                                  \n",
      "================================================================================\n",
      "                   coef    std err          t      P>|t|      [0.025      0.975]\n",
      "--------------------------------------------------------------------------------\n",
      "yr               0.2526      0.011     23.905      0.000       0.232       0.273\n",
      "atemp            0.7215      0.019     38.334      0.000       0.684       0.758\n",
      "weathersit_3    -0.1875      0.031     -6.106      0.000      -0.248      -0.127\n",
      "workingday       0.0412      0.011      3.777      0.000       0.020       0.063\n",
      "windspeed       -0.0246      0.026     -0.944      0.346      -0.076       0.027\n",
      "==============================================================================\n",
      "Omnibus:                       17.933   Durbin-Watson:                   1.903\n",
      "Prob(Omnibus):                  0.000   Jarque-Bera (JB):               20.417\n",
      "Skew:                          -0.389   Prob(JB):                     3.68e-05\n",
      "Kurtosis:                       3.595   Cond. No.                         6.76\n",
      "==============================================================================\n",
      "\n",
      "Notes:\n",
      "[1] R² is computed without centering (uncentered) since the model does not contain a constant.\n",
      "[2] Standard Errors assume that the covariance matrix of the errors is correctly specified.\n"
     ]
    },
    {
     "data": {
      "text/html": [
       "<div>\n",
       "<style scoped>\n",
       "    .dataframe tbody tr th:only-of-type {\n",
       "        vertical-align: middle;\n",
       "    }\n",
       "\n",
       "    .dataframe tbody tr th {\n",
       "        vertical-align: top;\n",
       "    }\n",
       "\n",
       "    .dataframe thead th {\n",
       "        text-align: right;\n",
       "    }\n",
       "</style>\n",
       "<table border=\"1\" class=\"dataframe\">\n",
       "  <thead>\n",
       "    <tr style=\"text-align: right;\">\n",
       "      <th></th>\n",
       "      <th>Features</th>\n",
       "      <th>VIF</th>\n",
       "    </tr>\n",
       "  </thead>\n",
       "  <tbody>\n",
       "    <tr>\n",
       "      <th>1</th>\n",
       "      <td>atemp</td>\n",
       "      <td>3.78</td>\n",
       "    </tr>\n",
       "    <tr>\n",
       "      <th>4</th>\n",
       "      <td>windspeed</td>\n",
       "      <td>3.05</td>\n",
       "    </tr>\n",
       "    <tr>\n",
       "      <th>3</th>\n",
       "      <td>workingday</td>\n",
       "      <td>2.79</td>\n",
       "    </tr>\n",
       "    <tr>\n",
       "      <th>0</th>\n",
       "      <td>yr</td>\n",
       "      <td>2.00</td>\n",
       "    </tr>\n",
       "    <tr>\n",
       "      <th>2</th>\n",
       "      <td>weathersit_3</td>\n",
       "      <td>1.07</td>\n",
       "    </tr>\n",
       "  </tbody>\n",
       "</table>\n",
       "</div>"
      ],
      "text/plain": [
       "       Features   VIF\n",
       "1         atemp  3.78\n",
       "4     windspeed  3.05\n",
       "3    workingday  2.79\n",
       "0            yr  2.00\n",
       "2  weathersit_3  1.07"
      ]
     },
     "execution_count": 64,
     "metadata": {},
     "output_type": "execute_result"
    }
   ],
   "source": [
    "col = ['yr','atemp','weathersit_3','workingday','windspeed']\n",
    "# Creating X_test dataframe with RFE selected variables\n",
    "X_train_manual = X_train[col]\n",
    "# Adding a constant variable \n",
    "#X_train_manual = sm.add_constant(X_train_manual)\n",
    "lm = sm.OLS(y_train,X_train_manual).fit()   # Running the linear model\n",
    "#summary of the linear model\n",
    "print(lm.summary())\n",
    "# Calculate the VIFs for the new model\n",
    "vif = pd.DataFrame()\n",
    "X = X_train_manual\n",
    "vif['Features'] = X.columns\n",
    "vif['VIF'] = [variance_inflation_factor(X.values, i) for i in range(X.shape[1])]\n",
    "vif['VIF'] = round(vif['VIF'], 2)\n",
    "vif = vif.sort_values(by = \"VIF\", ascending = False)\n",
    "vif"
   ]
  },
  {
   "cell_type": "code",
   "execution_count": 65,
   "metadata": {},
   "outputs": [
    {
     "data": {
      "text/plain": [
       "0.6282370977229985"
      ]
     },
     "execution_count": 65,
     "metadata": {},
     "output_type": "execute_result"
    }
   ],
   "source": [
    "X_test_new = X_test[col]\n",
    "y_pred = lm.predict(X_test_new)\n",
    "r2_score(y_test, y_pred)"
   ]
  },
  {
   "cell_type": "markdown",
   "metadata": {},
   "source": [
    "### Round 8"
   ]
  },
  {
   "cell_type": "code",
   "execution_count": 66,
   "metadata": {},
   "outputs": [
    {
     "name": "stdout",
     "output_type": "stream",
     "text": [
      "                                 OLS Regression Results                                \n",
      "=======================================================================================\n",
      "Dep. Variable:                    cnt   R-squared (uncentered):                   0.965\n",
      "Model:                            OLS   Adj. R-squared (uncentered):              0.965\n",
      "Method:                 Least Squares   F-statistic:                              2333.\n",
      "Date:                Tue, 13 Sep 2022   Prob (F-statistic):                        0.00\n",
      "Time:                        20:59:31   Log-Likelihood:                          415.69\n",
      "No. Observations:                 510   AIC:                                     -819.4\n",
      "Df Residuals:                     504   BIC:                                     -794.0\n",
      "Df Model:                           6                                                  \n",
      "Covariance Type:            nonrobust                                                  \n",
      "================================================================================\n",
      "                   coef    std err          t      P>|t|      [0.025      0.975]\n",
      "--------------------------------------------------------------------------------\n",
      "yr               0.2353      0.009     25.384      0.000       0.217       0.254\n",
      "atemp            0.6714      0.016     41.894      0.000       0.640       0.703\n",
      "weathersit_3    -0.2388      0.027     -8.878      0.000      -0.292      -0.186\n",
      "workingday       0.0223      0.009      2.386      0.017       0.004       0.041\n",
      "season_2         0.0662      0.012      5.716      0.000       0.043       0.089\n",
      "season_4         0.1351      0.011     11.813      0.000       0.113       0.158\n",
      "==============================================================================\n",
      "Omnibus:                       49.002   Durbin-Watson:                   2.082\n",
      "Prob(Omnibus):                  0.000   Jarque-Bera (JB):              105.290\n",
      "Skew:                          -0.543   Prob(JB):                     1.37e-23\n",
      "Kurtosis:                       4.943   Cond. No.                         6.50\n",
      "==============================================================================\n",
      "\n",
      "Notes:\n",
      "[1] R² is computed without centering (uncentered) since the model does not contain a constant.\n",
      "[2] Standard Errors assume that the covariance matrix of the errors is correctly specified.\n"
     ]
    },
    {
     "data": {
      "text/html": [
       "<div>\n",
       "<style scoped>\n",
       "    .dataframe tbody tr th:only-of-type {\n",
       "        vertical-align: middle;\n",
       "    }\n",
       "\n",
       "    .dataframe tbody tr th {\n",
       "        vertical-align: top;\n",
       "    }\n",
       "\n",
       "    .dataframe thead th {\n",
       "        text-align: right;\n",
       "    }\n",
       "</style>\n",
       "<table border=\"1\" class=\"dataframe\">\n",
       "  <thead>\n",
       "    <tr style=\"text-align: right;\">\n",
       "      <th></th>\n",
       "      <th>Features</th>\n",
       "      <th>VIF</th>\n",
       "    </tr>\n",
       "  </thead>\n",
       "  <tbody>\n",
       "    <tr>\n",
       "      <th>1</th>\n",
       "      <td>atemp</td>\n",
       "      <td>3.52</td>\n",
       "    </tr>\n",
       "    <tr>\n",
       "      <th>3</th>\n",
       "      <td>workingday</td>\n",
       "      <td>2.63</td>\n",
       "    </tr>\n",
       "    <tr>\n",
       "      <th>0</th>\n",
       "      <td>yr</td>\n",
       "      <td>1.98</td>\n",
       "    </tr>\n",
       "    <tr>\n",
       "      <th>4</th>\n",
       "      <td>season_2</td>\n",
       "      <td>1.50</td>\n",
       "    </tr>\n",
       "    <tr>\n",
       "      <th>5</th>\n",
       "      <td>season_4</td>\n",
       "      <td>1.35</td>\n",
       "    </tr>\n",
       "    <tr>\n",
       "      <th>2</th>\n",
       "      <td>weathersit_3</td>\n",
       "      <td>1.06</td>\n",
       "    </tr>\n",
       "  </tbody>\n",
       "</table>\n",
       "</div>"
      ],
      "text/plain": [
       "       Features   VIF\n",
       "1         atemp  3.52\n",
       "3    workingday  2.63\n",
       "0            yr  1.98\n",
       "4      season_2  1.50\n",
       "5      season_4  1.35\n",
       "2  weathersit_3  1.06"
      ]
     },
     "execution_count": 66,
     "metadata": {},
     "output_type": "execute_result"
    }
   ],
   "source": [
    "col = ['yr','atemp','weathersit_3','workingday','season_2','season_4']\n",
    "# Creating X_test dataframe with RFE selected variables\n",
    "X_train_manual = X_train[col]\n",
    "# Adding a constant variable \n",
    "#X_train_manual = sm.add_constant(X_train_manual)\n",
    "lm = sm.OLS(y_train,X_train_manual).fit()   # Running the linear model\n",
    "#summary of the linear model\n",
    "print(lm.summary())\n",
    "# Calculate the VIFs for the new model\n",
    "vif = pd.DataFrame()\n",
    "X = X_train_manual\n",
    "vif['Features'] = X.columns\n",
    "vif['VIF'] = [variance_inflation_factor(X.values, i) for i in range(X.shape[1])]\n",
    "vif['VIF'] = round(vif['VIF'], 2)\n",
    "vif = vif.sort_values(by = \"VIF\", ascending = False)\n",
    "vif"
   ]
  },
  {
   "cell_type": "code",
   "execution_count": 67,
   "metadata": {},
   "outputs": [
    {
     "data": {
      "text/plain": [
       "0.7097146905536946"
      ]
     },
     "execution_count": 67,
     "metadata": {},
     "output_type": "execute_result"
    }
   ],
   "source": [
    "X_test_new = X_test[col]\n",
    "y_pred = lm.predict(X_test_new)\n",
    "r2_score(y_test, y_pred)"
   ]
  },
  {
   "cell_type": "markdown",
   "metadata": {},
   "source": [
    "### Round 9"
   ]
  },
  {
   "cell_type": "code",
   "execution_count": 68,
   "metadata": {},
   "outputs": [
    {
     "name": "stdout",
     "output_type": "stream",
     "text": [
      "                                 OLS Regression Results                                \n",
      "=======================================================================================\n",
      "Dep. Variable:                    cnt   R-squared (uncentered):                   0.968\n",
      "Model:                            OLS   Adj. R-squared (uncentered):              0.967\n",
      "Method:                 Least Squares   F-statistic:                              2155.\n",
      "Date:                Tue, 13 Sep 2022   Prob (F-statistic):                        0.00\n",
      "Time:                        20:59:31   Log-Likelihood:                          434.66\n",
      "No. Observations:                 510   AIC:                                     -855.3\n",
      "Df Residuals:                     503   BIC:                                     -825.7\n",
      "Df Model:                           7                                                  \n",
      "Covariance Type:            nonrobust                                                  \n",
      "================================================================================\n",
      "                   coef    std err          t      P>|t|      [0.025      0.975]\n",
      "--------------------------------------------------------------------------------\n",
      "yr               0.2392      0.009     26.686      0.000       0.222       0.257\n",
      "atemp            0.6833      0.016     43.876      0.000       0.653       0.714\n",
      "weathersit_3    -0.2563      0.026     -9.823      0.000      -0.308      -0.205\n",
      "weathersit_2    -0.0605      0.010     -6.233      0.000      -0.080      -0.041\n",
      "workingday       0.0317      0.009      3.471      0.001       0.014       0.050\n",
      "season_2         0.0684      0.011      6.127      0.000       0.046       0.090\n",
      "season_4         0.1430      0.011     12.881      0.000       0.121       0.165\n",
      "==============================================================================\n",
      "Omnibus:                       49.538   Durbin-Watson:                   2.157\n",
      "Prob(Omnibus):                  0.000   Jarque-Bera (JB):              124.098\n",
      "Skew:                          -0.497   Prob(JB):                     1.13e-27\n",
      "Kurtosis:                       5.202   Cond. No.                         6.78\n",
      "==============================================================================\n",
      "\n",
      "Notes:\n",
      "[1] R² is computed without centering (uncentered) since the model does not contain a constant.\n",
      "[2] Standard Errors assume that the covariance matrix of the errors is correctly specified.\n"
     ]
    },
    {
     "data": {
      "text/html": [
       "<div>\n",
       "<style scoped>\n",
       "    .dataframe tbody tr th:only-of-type {\n",
       "        vertical-align: middle;\n",
       "    }\n",
       "\n",
       "    .dataframe tbody tr th {\n",
       "        vertical-align: top;\n",
       "    }\n",
       "\n",
       "    .dataframe thead th {\n",
       "        text-align: right;\n",
       "    }\n",
       "</style>\n",
       "<table border=\"1\" class=\"dataframe\">\n",
       "  <thead>\n",
       "    <tr style=\"text-align: right;\">\n",
       "      <th></th>\n",
       "      <th>Features</th>\n",
       "      <th>VIF</th>\n",
       "    </tr>\n",
       "  </thead>\n",
       "  <tbody>\n",
       "    <tr>\n",
       "      <th>1</th>\n",
       "      <td>atemp</td>\n",
       "      <td>3.57</td>\n",
       "    </tr>\n",
       "    <tr>\n",
       "      <th>4</th>\n",
       "      <td>workingday</td>\n",
       "      <td>2.70</td>\n",
       "    </tr>\n",
       "    <tr>\n",
       "      <th>0</th>\n",
       "      <td>yr</td>\n",
       "      <td>1.99</td>\n",
       "    </tr>\n",
       "    <tr>\n",
       "      <th>5</th>\n",
       "      <td>season_2</td>\n",
       "      <td>1.50</td>\n",
       "    </tr>\n",
       "    <tr>\n",
       "      <th>3</th>\n",
       "      <td>weathersit_2</td>\n",
       "      <td>1.39</td>\n",
       "    </tr>\n",
       "    <tr>\n",
       "      <th>6</th>\n",
       "      <td>season_4</td>\n",
       "      <td>1.37</td>\n",
       "    </tr>\n",
       "    <tr>\n",
       "      <th>2</th>\n",
       "      <td>weathersit_3</td>\n",
       "      <td>1.07</td>\n",
       "    </tr>\n",
       "  </tbody>\n",
       "</table>\n",
       "</div>"
      ],
      "text/plain": [
       "       Features   VIF\n",
       "1         atemp  3.57\n",
       "4    workingday  2.70\n",
       "0            yr  1.99\n",
       "5      season_2  1.50\n",
       "3  weathersit_2  1.39\n",
       "6      season_4  1.37\n",
       "2  weathersit_3  1.07"
      ]
     },
     "execution_count": 68,
     "metadata": {},
     "output_type": "execute_result"
    }
   ],
   "source": [
    "col = ['yr','atemp','weathersit_3','weathersit_2','workingday','season_2','season_4']\n",
    "# Creating X_test dataframe with RFE selected variables\n",
    "X_train_manual = X_train[col]\n",
    "# Adding a constant variable \n",
    "#X_train_manual = sm.add_constant(X_train_manual)\n",
    "lm = sm.OLS(y_train,X_train_manual).fit()   # Running the linear model\n",
    "#summary of the linear model\n",
    "print(lm.summary())\n",
    "# Calculate the VIFs for the new model\n",
    "vif = pd.DataFrame()\n",
    "X = X_train_manual\n",
    "vif['Features'] = X.columns\n",
    "vif['VIF'] = [variance_inflation_factor(X.values, i) for i in range(X.shape[1])]\n",
    "vif['VIF'] = round(vif['VIF'], 2)\n",
    "vif = vif.sort_values(by = \"VIF\", ascending = False)\n",
    "vif"
   ]
  },
  {
   "cell_type": "code",
   "execution_count": 69,
   "metadata": {},
   "outputs": [
    {
     "data": {
      "text/plain": [
       "0.7452986355315147"
      ]
     },
     "execution_count": 69,
     "metadata": {},
     "output_type": "execute_result"
    }
   ],
   "source": [
    "X_test_new = X_test[col]\n",
    "y_pred = lm.predict(X_test_new)\n",
    "r2_score(y_test, y_pred)"
   ]
  },
  {
   "cell_type": "markdown",
   "metadata": {},
   "source": [
    "### Round 10 - Alternate 1 without intercept"
   ]
  },
  {
   "cell_type": "code",
   "execution_count": 70,
   "metadata": {},
   "outputs": [
    {
     "name": "stdout",
     "output_type": "stream",
     "text": [
      "                                 OLS Regression Results                                \n",
      "=======================================================================================\n",
      "Dep. Variable:                    cnt   R-squared (uncentered):                   0.969\n",
      "Model:                            OLS   Adj. R-squared (uncentered):              0.969\n",
      "Method:                 Least Squares   F-statistic:                              1986.\n",
      "Date:                Tue, 13 Sep 2022   Prob (F-statistic):                        0.00\n",
      "Time:                        20:59:31   Log-Likelihood:                          447.91\n",
      "No. Observations:                 510   AIC:                                     -879.8\n",
      "Df Residuals:                     502   BIC:                                     -845.9\n",
      "Df Model:                           8                                                  \n",
      "Covariance Type:            nonrobust                                                  \n",
      "================================================================================\n",
      "                   coef    std err          t      P>|t|      [0.025      0.975]\n",
      "--------------------------------------------------------------------------------\n",
      "yr               0.2393      0.009     27.377      0.000       0.222       0.257\n",
      "atemp            0.6633      0.016     42.313      0.000       0.632       0.694\n",
      "weathersit_3    -0.2561      0.025    -10.065      0.000      -0.306      -0.206\n",
      "weathersit_2    -0.0629      0.009     -6.635      0.000      -0.082      -0.044\n",
      "workingday       0.0324      0.009      3.638      0.000       0.015       0.050\n",
      "season_2         0.0802      0.011      7.209      0.000       0.058       0.102\n",
      "season_4         0.1443      0.011     13.323      0.000       0.123       0.166\n",
      "mnth_9           0.0943      0.018      5.173      0.000       0.058       0.130\n",
      "==============================================================================\n",
      "Omnibus:                       56.485   Durbin-Watson:                   2.134\n",
      "Prob(Omnibus):                  0.000   Jarque-Bera (JB):              142.053\n",
      "Skew:                          -0.568   Prob(JB):                     1.42e-31\n",
      "Kurtosis:                       5.323   Cond. No.                         6.80\n",
      "==============================================================================\n",
      "\n",
      "Notes:\n",
      "[1] R² is computed without centering (uncentered) since the model does not contain a constant.\n",
      "[2] Standard Errors assume that the covariance matrix of the errors is correctly specified.\n"
     ]
    },
    {
     "data": {
      "text/html": [
       "<div>\n",
       "<style scoped>\n",
       "    .dataframe tbody tr th:only-of-type {\n",
       "        vertical-align: middle;\n",
       "    }\n",
       "\n",
       "    .dataframe tbody tr th {\n",
       "        vertical-align: top;\n",
       "    }\n",
       "\n",
       "    .dataframe thead th {\n",
       "        text-align: right;\n",
       "    }\n",
       "</style>\n",
       "<table border=\"1\" class=\"dataframe\">\n",
       "  <thead>\n",
       "    <tr style=\"text-align: right;\">\n",
       "      <th></th>\n",
       "      <th>Features</th>\n",
       "      <th>VIF</th>\n",
       "    </tr>\n",
       "  </thead>\n",
       "  <tbody>\n",
       "    <tr>\n",
       "      <th>1</th>\n",
       "      <td>atemp</td>\n",
       "      <td>3.81</td>\n",
       "    </tr>\n",
       "    <tr>\n",
       "      <th>4</th>\n",
       "      <td>workingday</td>\n",
       "      <td>2.71</td>\n",
       "    </tr>\n",
       "    <tr>\n",
       "      <th>0</th>\n",
       "      <td>yr</td>\n",
       "      <td>1.99</td>\n",
       "    </tr>\n",
       "    <tr>\n",
       "      <th>5</th>\n",
       "      <td>season_2</td>\n",
       "      <td>1.57</td>\n",
       "    </tr>\n",
       "    <tr>\n",
       "      <th>3</th>\n",
       "      <td>weathersit_2</td>\n",
       "      <td>1.39</td>\n",
       "    </tr>\n",
       "    <tr>\n",
       "      <th>6</th>\n",
       "      <td>season_4</td>\n",
       "      <td>1.37</td>\n",
       "    </tr>\n",
       "    <tr>\n",
       "      <th>7</th>\n",
       "      <td>mnth_9</td>\n",
       "      <td>1.16</td>\n",
       "    </tr>\n",
       "    <tr>\n",
       "      <th>2</th>\n",
       "      <td>weathersit_3</td>\n",
       "      <td>1.07</td>\n",
       "    </tr>\n",
       "  </tbody>\n",
       "</table>\n",
       "</div>"
      ],
      "text/plain": [
       "       Features   VIF\n",
       "1         atemp  3.81\n",
       "4    workingday  2.71\n",
       "0            yr  1.99\n",
       "5      season_2  1.57\n",
       "3  weathersit_2  1.39\n",
       "6      season_4  1.37\n",
       "7        mnth_9  1.16\n",
       "2  weathersit_3  1.07"
      ]
     },
     "execution_count": 70,
     "metadata": {},
     "output_type": "execute_result"
    }
   ],
   "source": [
    "col = ['yr','atemp','weathersit_3','weathersit_2','workingday','season_2','season_4','mnth_9']\n",
    "# Creating X_test dataframe with RFE selected variables\n",
    "X_train_manual = X_train[col]\n",
    "# Adding a constant variable \n",
    "#X_train_manual = sm.add_constant(X_train_manual)\n",
    "lm = sm.OLS(y_train,X_train_manual).fit()   # Running the linear model\n",
    "#summary of the linear model\n",
    "print(lm.summary())\n",
    "# Calculate the VIFs for the new model\n",
    "vif = pd.DataFrame()\n",
    "X = X_train_manual\n",
    "vif['Features'] = X.columns\n",
    "vif['VIF'] = [variance_inflation_factor(X.values, i) for i in range(X.shape[1])]\n",
    "vif['VIF'] = round(vif['VIF'], 2)\n",
    "vif = vif.sort_values(by = \"VIF\", ascending = False)\n",
    "vif"
   ]
  },
  {
   "cell_type": "markdown",
   "metadata": {},
   "source": [
    "#### it can be seen that all selected model variables are significant ( p value less than 0.05)\n",
    "#### F Statistic shows overall model equation is significant\n",
    "#### VIF for all variables is less than 5 implying no multicollinearity"
   ]
  },
  {
   "cell_type": "markdown",
   "metadata": {},
   "source": [
    "### Residual Analysis"
   ]
  },
  {
   "cell_type": "code",
   "execution_count": 71,
   "metadata": {},
   "outputs": [],
   "source": [
    "y_train_pred = lm.predict(X_train_manual)"
   ]
  },
  {
   "cell_type": "code",
   "execution_count": 72,
   "metadata": {},
   "outputs": [
    {
     "data": {
      "image/png": "[encoded data removed]",
      "text/plain": [
       "<Figure size 432x288 with 1 Axes>"
      ]
     },
     "metadata": {
      "needs_background": "light"
     },
     "output_type": "display_data"
    }
   ],
   "source": [
    "# Plot the histogram of the error terms\n",
    "fig = plt.figure()\n",
    "sns.distplot((y_train - y_train_pred), bins = 20)\n",
    "fig.suptitle('Error Terms', fontsize = 20)                  # Plot heading \n",
    "plt.xlabel('Errors', fontsize = 18)                         # X-label\n",
    "plt.show()"
   ]
  },
  {
   "cell_type": "markdown",
   "metadata": {},
   "source": [
    "#### error distribution is centered around 0 and seems close to a normal distribution"
   ]
  },
  {
   "cell_type": "code",
   "execution_count": 73,
   "metadata": {},
   "outputs": [
    {
     "data": {
      "image/png": "[encoded data removed]",
      "text/plain": [
       "<Figure size 432x288 with 1 Axes>"
      ]
     },
     "metadata": {
      "needs_background": "light"
     },
     "output_type": "display_data"
    }
   ],
   "source": [
    "# Plotting residual vs atemp to see if there are any visible patterns in residual\n",
    "fig = plt.figure()\n",
    "plt.scatter(X_train['atemp'],y_train - y_train_pred)\n",
    "fig.suptitle('residuals vs atemp', fontsize=20)            \n",
    "plt.xlabel('atemp', fontsize=18)                         \n",
    "plt.ylabel('residuals', fontsize=16)                      \n",
    "plt.show()"
   ]
  },
  {
   "cell_type": "markdown",
   "metadata": {},
   "source": [
    "#### the error terms appear to be evenly distributed noise around zero, though for higher atemp a bit of downward trend is seen"
   ]
  },
  {
   "cell_type": "code",
   "execution_count": 74,
   "metadata": {},
   "outputs": [
    {
     "data": {
      "image/png": "[encoded data removed]",
      "text/plain": [
       "<Figure size 432x288 with 1 Axes>"
      ]
     },
     "metadata": {
      "needs_background": "light"
     },
     "output_type": "display_data"
    }
   ],
   "source": [
    "# Plotting y_test and y_pred to understand the spread.\n",
    "fig = plt.figure()\n",
    "plt.scatter(y_test,y_pred)\n",
    "fig.suptitle('y_test vs y_pred', fontsize=20)              # Plot heading \n",
    "plt.xlabel('y_test', fontsize=18)                          # X-label\n",
    "plt.ylabel('y_pred', fontsize=16)                          # Y-label\n",
    "plt.show()"
   ]
  },
  {
   "cell_type": "markdown",
   "metadata": {},
   "source": [
    "good trend is seen between actual and predicted"
   ]
  },
  {
   "cell_type": "markdown",
   "metadata": {},
   "source": [
    "### R-squared score on the test set for Alternate Model"
   ]
  },
  {
   "cell_type": "code",
   "execution_count": 75,
   "metadata": {},
   "outputs": [
    {
     "data": {
      "text/plain": [
       "0.7647914670428624"
      ]
     },
     "execution_count": 75,
     "metadata": {},
     "output_type": "execute_result"
    }
   ],
   "source": [
    "X_test_new = X_test[col]\n",
    "y_pred = lm.predict(X_test_new)\n",
    "r2_score(y_test, y_pred)"
   ]
  },
  {
   "cell_type": "markdown",
   "metadata": {},
   "source": [
    "high difference in rsquare is seen between train 96% and test 76% signifying overfitting, as a result will go and include intercept even though it has high VIF"
   ]
  },
  {
   "cell_type": "markdown",
   "metadata": {},
   "source": [
    "### Round 11 -  Final Model with intercept "
   ]
  },
  {
   "cell_type": "code",
   "execution_count": 76,
   "metadata": {},
   "outputs": [
    {
     "name": "stdout",
     "output_type": "stream",
     "text": [
      "                            OLS Regression Results                            \n",
      "==============================================================================\n",
      "Dep. Variable:                    cnt   R-squared:                       0.818\n",
      "Model:                            OLS   Adj. R-squared:                  0.815\n",
      "Method:                 Least Squares   F-statistic:                     281.4\n",
      "Date:                Tue, 13 Sep 2022   Prob (F-statistic):          7.00e-180\n",
      "Time:                        20:59:32   Log-Likelihood:                 450.15\n",
      "No. Observations:                 510   AIC:                            -882.3\n",
      "Df Residuals:                     501   BIC:                            -844.2\n",
      "Df Model:                           8                                         \n",
      "Covariance Type:            nonrobust                                         \n",
      "================================================================================\n",
      "                   coef    std err          t      P>|t|      [0.025      0.975]\n",
      "--------------------------------------------------------------------------------\n",
      "const            0.0318      0.015      2.106      0.036       0.002       0.061\n",
      "yr               0.2343      0.009     25.917      0.000       0.217       0.252\n",
      "atemp            0.6310      0.022     28.844      0.000       0.588       0.674\n",
      "weathersit_3    -0.2632      0.026    -10.288      0.000      -0.313      -0.213\n",
      "weathersit_2    -0.0686      0.010     -6.981      0.000      -0.088      -0.049\n",
      "workingday       0.0243      0.010      2.516      0.012       0.005       0.043\n",
      "season_2         0.0775      0.011      6.937      0.000       0.056       0.099\n",
      "season_4         0.1371      0.011     12.118      0.000       0.115       0.159\n",
      "mnth_9           0.0971      0.018      5.333      0.000       0.061       0.133\n",
      "==============================================================================\n",
      "Omnibus:                       50.992   Durbin-Watson:                   2.135\n",
      "Prob(Omnibus):                  0.000   Jarque-Bera (JB):              124.760\n",
      "Skew:                          -0.521   Prob(JB):                     8.10e-28\n",
      "Kurtosis:                       5.188   Cond. No.                         9.13\n",
      "==============================================================================\n",
      "\n",
      "Notes:\n",
      "[1] Standard Errors assume that the covariance matrix of the errors is correctly specified.\n"
     ]
    },
    {
     "data": {
      "text/html": [
       "<div>\n",
       "<style scoped>\n",
       "    .dataframe tbody tr th:only-of-type {\n",
       "        vertical-align: middle;\n",
       "    }\n",
       "\n",
       "    .dataframe tbody tr th {\n",
       "        vertical-align: top;\n",
       "    }\n",
       "\n",
       "    .dataframe thead th {\n",
       "        text-align: right;\n",
       "    }\n",
       "</style>\n",
       "<table border=\"1\" class=\"dataframe\">\n",
       "  <thead>\n",
       "    <tr style=\"text-align: right;\">\n",
       "      <th></th>\n",
       "      <th>Features</th>\n",
       "      <th>VIF</th>\n",
       "    </tr>\n",
       "  </thead>\n",
       "  <tbody>\n",
       "    <tr>\n",
       "      <th>0</th>\n",
       "      <td>const</td>\n",
       "      <td>11.39</td>\n",
       "    </tr>\n",
       "    <tr>\n",
       "      <th>6</th>\n",
       "      <td>season_2</td>\n",
       "      <td>1.18</td>\n",
       "    </tr>\n",
       "    <tr>\n",
       "      <th>7</th>\n",
       "      <td>season_4</td>\n",
       "      <td>1.15</td>\n",
       "    </tr>\n",
       "    <tr>\n",
       "      <th>2</th>\n",
       "      <td>atemp</td>\n",
       "      <td>1.14</td>\n",
       "    </tr>\n",
       "    <tr>\n",
       "      <th>8</th>\n",
       "      <td>mnth_9</td>\n",
       "      <td>1.09</td>\n",
       "    </tr>\n",
       "    <tr>\n",
       "      <th>3</th>\n",
       "      <td>weathersit_3</td>\n",
       "      <td>1.05</td>\n",
       "    </tr>\n",
       "    <tr>\n",
       "      <th>4</th>\n",
       "      <td>weathersit_2</td>\n",
       "      <td>1.04</td>\n",
       "    </tr>\n",
       "    <tr>\n",
       "      <th>1</th>\n",
       "      <td>yr</td>\n",
       "      <td>1.02</td>\n",
       "    </tr>\n",
       "    <tr>\n",
       "      <th>5</th>\n",
       "      <td>workingday</td>\n",
       "      <td>1.01</td>\n",
       "    </tr>\n",
       "  </tbody>\n",
       "</table>\n",
       "</div>"
      ],
      "text/plain": [
       "       Features    VIF\n",
       "0         const  11.39\n",
       "6      season_2   1.18\n",
       "7      season_4   1.15\n",
       "2         atemp   1.14\n",
       "8        mnth_9   1.09\n",
       "3  weathersit_3   1.05\n",
       "4  weathersit_2   1.04\n",
       "1            yr   1.02\n",
       "5    workingday   1.01"
      ]
     },
     "execution_count": 76,
     "metadata": {},
     "output_type": "execute_result"
    }
   ],
   "source": [
    "col = ['yr','atemp','weathersit_3','weathersit_2','workingday','season_2','season_4','mnth_9']\n",
    "# Creating X_test dataframe with RFE selected variables\n",
    "X_train_manual = X_train[col]\n",
    "# Adding a constant variable \n",
    "X_train_manual = sm.add_constant(X_train_manual)\n",
    "lm = sm.OLS(y_train,X_train_manual).fit()   # Running the linear model\n",
    "#summary of the linear model\n",
    "print(lm.summary())\n",
    "# Calculate the VIFs for the new model\n",
    "vif = pd.DataFrame()\n",
    "X = X_train_manual\n",
    "vif['Features'] = X.columns\n",
    "vif['VIF'] = [variance_inflation_factor(X.values, i) for i in range(X.shape[1])]\n",
    "vif['VIF'] = round(vif['VIF'], 2)\n",
    "vif = vif.sort_values(by = \"VIF\", ascending = False)\n",
    "vif"
   ]
  },
  {
   "cell_type": "markdown",
   "metadata": {},
   "source": [
    "#### it can be seen that all selected model variables are significant ( p value less than 0.05)\n",
    "#### F Statistic shows overall model equation is significant\n",
    "#### VIF for all variables except constant is less than 5 implying no multicollinearity\n",
    "#### The Durbin Watson statistic of 2 implies no autocorrelation, the value of 2.135 implies only slight negative autocorrelation."
   ]
  },
  {
   "cell_type": "markdown",
   "metadata": {},
   "source": [
    "### Check Linearity"
   ]
  },
  {
   "cell_type": "code",
   "execution_count": 77,
   "metadata": {},
   "outputs": [
    {
     "data": {
      "image/png": "[encoded data removed]",
      "text/plain": [
       "<Figure size 432x288 with 1 Axes>"
      ]
     },
     "metadata": {
      "needs_background": "light"
     },
     "output_type": "display_data"
    }
   ],
   "source": [
    "# Plotting cnt vs atemp to check linear relationship\n",
    "fig = plt.figure()\n",
    "plt.scatter(y_train, X_train['atemp'])\n",
    "fig.suptitle('cnt vs atemp', fontsize=20)            \n",
    "plt.xlabel('cnt', fontsize=18)                         \n",
    "plt.ylabel('atemp', fontsize=16)                      \n",
    "plt.show()"
   ]
  },
  {
   "cell_type": "markdown",
   "metadata": {},
   "source": [
    "### Residual Analysis"
   ]
  },
  {
   "cell_type": "code",
   "execution_count": 78,
   "metadata": {},
   "outputs": [
    {
     "data": {
      "image/png": "[encoded data removed]",
      "text/plain": [
       "<Figure size 432x288 with 1 Axes>"
      ]
     },
     "metadata": {
      "needs_background": "light"
     },
     "output_type": "display_data"
    }
   ],
   "source": [
    "# Plot the histogram of the error terms\n",
    "y_train_pred = lm.predict(X_train_manual)\n",
    "fig = plt.figure()\n",
    "sns.distplot((y_train - y_train_pred), bins = 20)\n",
    "fig.suptitle('Error Terms', fontsize = 20)                  # Plot heading \n",
    "plt.xlabel('Errors', fontsize = 18)                         # X-label\n",
    "plt.show()"
   ]
  },
  {
   "cell_type": "markdown",
   "metadata": {},
   "source": [
    "#### error distribution is centered around 0 and seems close to a normal distribution"
   ]
  },
  {
   "cell_type": "code",
   "execution_count": 79,
   "metadata": {},
   "outputs": [
    {
     "data": {
      "image/png": "[encoded data removed]",
      "text/plain": [
       "<Figure size 432x288 with 1 Axes>"
      ]
     },
     "metadata": {
      "needs_background": "light"
     },
     "output_type": "display_data"
    }
   ],
   "source": [
    "# QQ plot to check if residuals are normally distributed\n",
    "sm.qqplot(y_train - y_train_pred)\n",
    "plt.show()"
   ]
  },
  {
   "cell_type": "markdown",
   "metadata": {},
   "source": [
    "#### the error terms appears to be close to the normal distribution"
   ]
  },
  {
   "cell_type": "code",
   "execution_count": 80,
   "metadata": {},
   "outputs": [
    {
     "data": {
      "image/png": "[encoded data removed]",
      "text/plain": [
       "<Figure size 432x288 with 1 Axes>"
      ]
     },
     "metadata": {
      "needs_background": "light"
     },
     "output_type": "display_data"
    }
   ],
   "source": [
    "# Plotting residual vs atemp to see if there are any visible patterns in residual\n",
    "fig = plt.figure()\n",
    "plt.scatter(X_train['atemp'],y_train - y_train_pred)\n",
    "fig.suptitle('residuals vs atemp', fontsize=20)            \n",
    "plt.xlabel('atemp', fontsize=18)                         \n",
    "plt.ylabel('residuals', fontsize=16)                      \n",
    "plt.show()"
   ]
  },
  {
   "cell_type": "markdown",
   "metadata": {},
   "source": [
    "#### the error terms appear to be evenly distributed noise around zero, though for higher atemp a bit of downward trend is seen"
   ]
  },
  {
   "cell_type": "code",
   "execution_count": 81,
   "metadata": {},
   "outputs": [
    {
     "data": {
      "image/png": "[encoded data removed]",
      "text/plain": [
       "<Figure size 432x288 with 1 Axes>"
      ]
     },
     "metadata": {
      "needs_background": "light"
     },
     "output_type": "display_data"
    }
   ],
   "source": [
    "# Plotting residual vs atemp to see if there are any visible patterns in residual\n",
    "fig = plt.figure()\n",
    "plt.scatter(y_train,y_train - y_train_pred)\n",
    "fig.suptitle('residuals vs Y', fontsize=20)            \n",
    "plt.xlabel('Y', fontsize=18)                         \n",
    "plt.ylabel('residuals', fontsize=16)                      \n",
    "plt.show()"
   ]
  },
  {
   "cell_type": "markdown",
   "metadata": {},
   "source": [
    "#### the error terms appear to be evenly distributed noise around zero, though for higher Y a bit of upward trend is seen\n",
    "#### hence no heteroscedasticity is seen and autocorrelation is also negligible"
   ]
  },
  {
   "cell_type": "code",
   "execution_count": 82,
   "metadata": {},
   "outputs": [
    {
     "data": {
      "image/png": "[encoded data removed]",
      "text/plain": [
       "<Figure size 432x288 with 1 Axes>"
      ]
     },
     "metadata": {
      "needs_background": "light"
     },
     "output_type": "display_data"
    }
   ],
   "source": [
    "# Plotting y_test and y_pred to understand the spread.\n",
    "fig = plt.figure()\n",
    "plt.scatter(y_test,y_pred)\n",
    "fig.suptitle('y_test vs y_pred', fontsize=20)              # Plot heading \n",
    "plt.xlabel('y_test', fontsize=18)                          # X-label\n",
    "plt.ylabel('y_pred', fontsize=16)                          # Y-label\n",
    "plt.show()"
   ]
  },
  {
   "cell_type": "markdown",
   "metadata": {},
   "source": [
    "good trend is seen between actual and predicted"
   ]
  },
  {
   "cell_type": "markdown",
   "metadata": {},
   "source": [
    "### R-squared score on the test set for Final Model with intercept"
   ]
  },
  {
   "cell_type": "code",
   "execution_count": 83,
   "metadata": {},
   "outputs": [
    {
     "data": {
      "text/plain": [
       "0.7722063167063323"
      ]
     },
     "execution_count": 83,
     "metadata": {},
     "output_type": "execute_result"
    }
   ],
   "source": [
    "X_test_new = X_test[col]\n",
    "X_test_new = sm.add_constant(X_test_new)\n",
    "y_pred = lm.predict(X_test_new)\n",
    "r2_score(y_test, y_pred)"
   ]
  },
  {
   "cell_type": "markdown",
   "metadata": {},
   "source": [
    "rsquare is comparable between train 81% and test 77% signifying no overfitting"
   ]
  },
  {
   "cell_type": "markdown",
   "metadata": {},
   "source": [
    "## Observations\n",
    "\n",
    "\n",
    "We can see that the equation of our best fitted line is:\n",
    "\n",
    "$ total ride count = 0.0318 + 0.631  \\times  atemp - 0.2632  \\times  weathersit_3 + 0.2348 \\times year + 0.1371 \\times season_4(winter) + 0.0971 \\times mnth_9 + 0.0775 \\times season_2 (summer) - 0.06869 \\times weathersit_2 $\n",
    "\n",
    "based on R Score on test sample this model can be assumed to explain roughly 77% of the variance seen in daily ridership <br>\n",
    "the feeling temperature is the most important determinant of ridership with higher temperature generally seeing higher ridership <br>\n",
    "as weather situation becomes worse ridership falls, highest fall being in case of weather situation 3 <br>\n",
    "it can also be seen that ridership increased in 2019 compared to 2018 all other factors being constant <br>\n",
    "winter and summer see increased ridership\n",
    "\n"
   ]
  },
  {
   "cell_type": "code",
   "execution_count": null,
   "metadata": {},
   "outputs": [],
   "source": []
  }
 ],
 "metadata": {
  "kernelspec": {
   "display_name": "Python 3 (ipykernel)",
   "language": "python",
   "name": "python3"
  },
  "language_info": {
   "codemirror_mode": {
    "name": "ipython",
    "version": 3
   },
   "file_extension": ".py",
   "mimetype": "text/x-python",
   "name": "python",
   "nbconvert_exporter": "python",
   "pygments_lexer": "ipython3",
   "version": "3.9.12"
  }
 },
 "nbformat": 4,
 "nbformat_minor": 2
}
